{
 "cells": [
  {
   "cell_type": "markdown",
   "metadata": {},
   "source": [
    "# Практика. Статистические тесты в контексте EDA"
   ]
  },
  {
   "cell_type": "markdown",
   "metadata": {},
   "source": [
    "## Постановка задачи"
   ]
  },
  {
   "cell_type": "markdown",
   "metadata": {},
   "source": [
    "### ИССЛЕДОВАНИЕ ДАННЫХ HR-АГЕНТСТВА"
   ]
  },
  {
   "cell_type": "markdown",
   "metadata": {},
   "source": [
    "HR-агентство изучает тренды на рынке труда в IT. Компания хочет провести исследование на основе данных о зарплатах в сфере Data Science за 2020–2022 годы и получить некоторые выводы."
   ]
  },
  {
   "cell_type": "markdown",
   "metadata": {},
   "source": [
    "HR-агентства хочет ответить на следующие вопросы, касающиеся заработной платы:\n",
    "\n",
    "* Наблюдается ли ежегодный рост зарплат у специалистов Data Scientist?\n",
    "* Как соотносятся зарплаты Data Scientist и Data Engineer в 2022 году?\n",
    "* Как соотносятся зарплаты специалистов Data Scientist в компаниях различных размеров?\n",
    "* Есть ли связь между наличием должностей Data Scientist и Data Engineer и размером компании?"
   ]
  },
  {
   "cell_type": "markdown",
   "metadata": {},
   "source": [
    "На каждый вопрос необходимо ответить с уровнем значимости $\\alpha=0.05$."
   ]
  },
  {
   "cell_type": "markdown",
   "metadata": {},
   "source": [
    "Ответить на эти вопросы нам помогут данные о зарплатах в сфере Data Science за 2020–2022 годы.\n",
    "\n",
    "Данные содержат следующие столбцы:\n",
    "\n",
    "* work_year — Год, в котором была выплачена зарплата;\n",
    "* experience_level — Опыт работы на этой должности в течение года со следующими возможными значениями: \n",
    "    * EN (Entry-level/Junio)\n",
    "    * MI (Mid-level/Intermediate)\n",
    "    * SE (Senior-level/Expert)\n",
    "    * EX (Executive-level/Director);\n",
    "* employment_type — Тип трудоустройства для этой роли:\n",
    "    * PT (неполный рабочий день)\n",
    "    * FT (полный рабочий день)\n",
    "    * CT (контракт)\n",
    "    * FL (фриланс);\n",
    "* job_title — Роль, в которой соискатель работал в течение года;\n",
    "* salary — Общая выплаченная валовая сумма заработной платы;\n",
    "* salary_currency — Валюта выплачиваемой заработной платы в виде кода валюты ISO 4217;\n",
    "* salary_in_usd — Зарплата в долларах США (валютный курс, делённый на среднее значение курса доллара США за соответствующий год через fxdata.foorilla.com);\n",
    "* employee_residence — Основная страна проживания сотрудника в течение рабочего года в виде кода страны ISO 3166;\n",
    "* remote_ratio — Общий объём работы, выполняемой удалённо. Возможные значения:\n",
    "    * 0 - (удалённой работы нет (менее 20 %))\n",
    "    * 50 - (частично удалённая работа)\n",
    "    * 100 - (полностью удалённая работа (более 80 %));\n",
    "* company_location — Страна главного офиса работодателя или филиала по контракту в виде кода страны ISO 3166.\n",
    "* company_size — Среднее количество людей, работавших в компании в течение года:\n",
    "    * S - (менее 50 сотрудников (небольшая компания))\n",
    "    * M - (от 50 до 250 сотрудников (средняя компания))\n",
    "    * L - (более 250 сотрудников (крупная компания))."
   ]
  },
  {
   "cell_type": "markdown",
   "metadata": {},
   "source": [
    "Оригинальный датасет: [\"Data Science Job Salaries” (kaggle.com)\"](https://www.kaggle.com/datasets/ruchi798/data-science-job-salaries)"
   ]
  },
  {
   "cell_type": "markdown",
   "metadata": {},
   "source": [
    "### **Загрузка данных**"
   ]
  },
  {
   "cell_type": "code",
   "execution_count": 1,
   "metadata": {},
   "outputs": [],
   "source": [
    "# загружаем необходимые библиотеки\n",
    "import pandas as pd\n",
    "import numpy as np\n",
    "\n",
    "from scipy import stats\n",
    "import statsmodels.api as sm\n",
    "from statsmodels import stats as sms\n",
    "\n",
    "import matplotlib.pyplot as plt\n",
    "import seaborn as sns\n",
    "\n",
    "# делаем визуальную настройку графиков\n",
    "sns.set_theme(\"notebook\") \n",
    "sns.set_palette(\"Set2\") "
   ]
  },
  {
   "cell_type": "code",
   "execution_count": 2,
   "metadata": {},
   "outputs": [
    {
     "data": {
      "text/html": [
       "<div>\n",
       "<style scoped>\n",
       "    .dataframe tbody tr th:only-of-type {\n",
       "        vertical-align: middle;\n",
       "    }\n",
       "\n",
       "    .dataframe tbody tr th {\n",
       "        vertical-align: top;\n",
       "    }\n",
       "\n",
       "    .dataframe thead th {\n",
       "        text-align: right;\n",
       "    }\n",
       "</style>\n",
       "<table border=\"1\" class=\"dataframe\">\n",
       "  <thead>\n",
       "    <tr style=\"text-align: right;\">\n",
       "      <th></th>\n",
       "      <th>Unnamed: 0</th>\n",
       "      <th>work_year</th>\n",
       "      <th>experience_level</th>\n",
       "      <th>employment_type</th>\n",
       "      <th>job_title</th>\n",
       "      <th>salary</th>\n",
       "      <th>salary_currency</th>\n",
       "      <th>salary_in_usd</th>\n",
       "      <th>employee_residence</th>\n",
       "      <th>remote_ratio</th>\n",
       "      <th>company_location</th>\n",
       "      <th>company_size</th>\n",
       "    </tr>\n",
       "  </thead>\n",
       "  <tbody>\n",
       "    <tr>\n",
       "      <th>0</th>\n",
       "      <td>0</td>\n",
       "      <td>2020</td>\n",
       "      <td>MI</td>\n",
       "      <td>FT</td>\n",
       "      <td>Data Scientist</td>\n",
       "      <td>70000</td>\n",
       "      <td>EUR</td>\n",
       "      <td>79833</td>\n",
       "      <td>DE</td>\n",
       "      <td>0</td>\n",
       "      <td>DE</td>\n",
       "      <td>L</td>\n",
       "    </tr>\n",
       "    <tr>\n",
       "      <th>1</th>\n",
       "      <td>1</td>\n",
       "      <td>2020</td>\n",
       "      <td>SE</td>\n",
       "      <td>FT</td>\n",
       "      <td>Machine Learning Scientist</td>\n",
       "      <td>260000</td>\n",
       "      <td>USD</td>\n",
       "      <td>260000</td>\n",
       "      <td>JP</td>\n",
       "      <td>0</td>\n",
       "      <td>JP</td>\n",
       "      <td>S</td>\n",
       "    </tr>\n",
       "    <tr>\n",
       "      <th>2</th>\n",
       "      <td>2</td>\n",
       "      <td>2020</td>\n",
       "      <td>SE</td>\n",
       "      <td>FT</td>\n",
       "      <td>Big Data Engineer</td>\n",
       "      <td>85000</td>\n",
       "      <td>GBP</td>\n",
       "      <td>109024</td>\n",
       "      <td>GB</td>\n",
       "      <td>50</td>\n",
       "      <td>GB</td>\n",
       "      <td>M</td>\n",
       "    </tr>\n",
       "    <tr>\n",
       "      <th>3</th>\n",
       "      <td>3</td>\n",
       "      <td>2020</td>\n",
       "      <td>MI</td>\n",
       "      <td>FT</td>\n",
       "      <td>Product Data Analyst</td>\n",
       "      <td>20000</td>\n",
       "      <td>USD</td>\n",
       "      <td>20000</td>\n",
       "      <td>HN</td>\n",
       "      <td>0</td>\n",
       "      <td>HN</td>\n",
       "      <td>S</td>\n",
       "    </tr>\n",
       "    <tr>\n",
       "      <th>4</th>\n",
       "      <td>4</td>\n",
       "      <td>2020</td>\n",
       "      <td>SE</td>\n",
       "      <td>FT</td>\n",
       "      <td>Machine Learning Engineer</td>\n",
       "      <td>150000</td>\n",
       "      <td>USD</td>\n",
       "      <td>150000</td>\n",
       "      <td>US</td>\n",
       "      <td>50</td>\n",
       "      <td>US</td>\n",
       "      <td>L</td>\n",
       "    </tr>\n",
       "  </tbody>\n",
       "</table>\n",
       "</div>"
      ],
      "text/plain": [
       "   Unnamed: 0  work_year experience_level employment_type  \\\n",
       "0           0       2020               MI              FT   \n",
       "1           1       2020               SE              FT   \n",
       "2           2       2020               SE              FT   \n",
       "3           3       2020               MI              FT   \n",
       "4           4       2020               SE              FT   \n",
       "\n",
       "                    job_title  salary salary_currency  salary_in_usd  \\\n",
       "0              Data Scientist   70000             EUR          79833   \n",
       "1  Machine Learning Scientist  260000             USD         260000   \n",
       "2           Big Data Engineer   85000             GBP         109024   \n",
       "3        Product Data Analyst   20000             USD          20000   \n",
       "4   Machine Learning Engineer  150000             USD         150000   \n",
       "\n",
       "  employee_residence  remote_ratio company_location company_size  \n",
       "0                 DE             0               DE            L  \n",
       "1                 JP             0               JP            S  \n",
       "2                 GB            50               GB            M  \n",
       "3                 HN             0               HN            S  \n",
       "4                 US            50               US            L  "
      ]
     },
     "execution_count": 2,
     "metadata": {},
     "output_type": "execute_result"
    }
   ],
   "source": [
    "# загружаем датасет\n",
    "data = pd.read_csv('ds_salaries.csv')\n",
    "data.head()"
   ]
  },
  {
   "cell_type": "code",
   "execution_count": 3,
   "metadata": {},
   "outputs": [
    {
     "name": "stdout",
     "output_type": "stream",
     "text": [
      "Уровень значимости alpha = 0.05\n"
     ]
    }
   ],
   "source": [
    "# задаём уровень значимости\n",
    "alpha = 0.05 \n",
    "print(\"Уровень значимости alpha = {:.2f}\".format(alpha))"
   ]
  },
  {
   "cell_type": "markdown",
   "metadata": {},
   "source": [
    "### **Описательный анализ данных**"
   ]
  },
  {
   "cell_type": "code",
   "execution_count": 4,
   "metadata": {},
   "outputs": [
    {
     "name": "stdout",
     "output_type": "stream",
     "text": [
      "<class 'pandas.core.frame.DataFrame'>\n",
      "RangeIndex: 607 entries, 0 to 606\n",
      "Data columns (total 12 columns):\n",
      " #   Column              Non-Null Count  Dtype \n",
      "---  ------              --------------  ----- \n",
      " 0   Unnamed: 0          607 non-null    int64 \n",
      " 1   work_year           607 non-null    int64 \n",
      " 2   experience_level    607 non-null    object\n",
      " 3   employment_type     607 non-null    object\n",
      " 4   job_title           607 non-null    object\n",
      " 5   salary              607 non-null    int64 \n",
      " 6   salary_currency     607 non-null    object\n",
      " 7   salary_in_usd       607 non-null    int64 \n",
      " 8   employee_residence  607 non-null    object\n",
      " 9   remote_ratio        607 non-null    int64 \n",
      " 10  company_location    607 non-null    object\n",
      " 11  company_size        607 non-null    object\n",
      "dtypes: int64(5), object(7)\n",
      "memory usage: 57.0+ KB\n"
     ]
    }
   ],
   "source": [
    "data.info()"
   ]
  },
  {
   "cell_type": "code",
   "execution_count": 5,
   "metadata": {},
   "outputs": [
    {
     "data": {
      "text/plain": [
       "<Axes: >"
      ]
     },
     "execution_count": 5,
     "metadata": {},
     "output_type": "execute_result"
    },
    {
     "data": {
      "image/png": "[encoded data removed]",
      "text/plain": [
       "<Figure size 640x480 with 2 Axes>"
      ]
     },
     "metadata": {},
     "output_type": "display_data"
    }
   ],
   "source": [
    "sns.heatmap(data.isnull()) # проверим, что датасет без пропусков"
   ]
  },
  {
   "cell_type": "markdown",
   "metadata": {},
   "source": [
    "    Вывод: В датасете 607 записей (без пропущенных значений)."
   ]
  },
  {
   "cell_type": "markdown",
   "metadata": {},
   "source": [
    "Проверим данные на наличие полных дубликатов, удалим признак salary, аналогичный более универсальному и поддающемуся статестической оработке признаку salary_in_usd, удалим признак salary_currency, поскольку мы будем оперировать зарплатой уже переведенной в доллары США. Так же будет удален признак Unnamed не имеющий значения для статистического анализа."
   ]
  },
  {
   "cell_type": "code",
   "execution_count": 6,
   "metadata": {},
   "outputs": [
    {
     "name": "stdout",
     "output_type": "stream",
     "text": [
      "Количество дубликатов: 0\n",
      "<class 'pandas.core.frame.DataFrame'>\n",
      "RangeIndex: 607 entries, 0 to 606\n",
      "Data columns (total 10 columns):\n",
      " #   Column              Non-Null Count  Dtype \n",
      "---  ------              --------------  ----- \n",
      " 0   Unnamed: 0          607 non-null    int64 \n",
      " 1   work_year           607 non-null    int64 \n",
      " 2   experience_level    607 non-null    object\n",
      " 3   employment_type     607 non-null    object\n",
      " 4   job_title           607 non-null    object\n",
      " 5   salary_in_usd       607 non-null    int64 \n",
      " 6   employee_residence  607 non-null    object\n",
      " 7   remote_ratio        607 non-null    int64 \n",
      " 8   company_location    607 non-null    object\n",
      " 9   company_size        607 non-null    object\n",
      "dtypes: int64(4), object(6)\n",
      "memory usage: 47.6+ KB\n"
     ]
    }
   ],
   "source": [
    "# Проверяем наличие дубликатов:\n",
    "print('Количество дубликатов: {}'.format(data[data.duplicated()].shape[0]))\n",
    "# Удаляем столбцы \"salary\" и \"salary_currency\" из DataFrame\n",
    "data = data.drop(columns=['salary', 'salary_currency'])\n",
    "data.info()"
   ]
  },
  {
   "cell_type": "markdown",
   "metadata": {},
   "source": [
    "**Проведём корреляционный анализ датасета**\n",
    "\n",
    "*Используем для этого тепловую карту корреляций признаков*"
   ]
  },
  {
   "cell_type": "code",
   "execution_count": 7,
   "metadata": {},
   "outputs": [
    {
     "data": {
      "text/plain": [
       "<Axes: >"
      ]
     },
     "execution_count": 7,
     "metadata": {},
     "output_type": "execute_result"
    },
    {
     "data": {
      "image/png": "[encoded data removed]",
      "text/plain": [
       "<Figure size 640x480 with 2 Axes>"
      ]
     },
     "metadata": {},
     "output_type": "display_data"
    }
   ],
   "source": [
    "# отсеиваем числовые признаки и включаем отображение коэффициентов\n",
    "sns.heatmap(data.corr(numeric_only=True), annot=True)"
   ]
  },
  {
   "cell_type": "markdown",
   "metadata": {},
   "source": [
    "    Вывод: В датасете нет неинформативных признаков которые из за мультиколлениарности с другими признаками подлежали бы исключению"
   ]
  },
  {
   "cell_type": "markdown",
   "metadata": {},
   "source": [
    "### **Классификация признаков на числовые и категориальные**"
   ]
  },
  {
   "cell_type": "markdown",
   "metadata": {},
   "source": [
    "Категориальные признаки:\n",
    "\n",
    "* work_year — Год, в котором была выплачена зарплата;\n",
    "* experience_level — Опыт работы на этой должности в течение года со следующими возможными значениями: \n",
    "    * EN (Entry-level/Junio)\n",
    "    * MI (Mid-level/Intermediate)\n",
    "    * SE (Senior-level/Expert)\n",
    "    * EX (Executive-level/Director);\n",
    "* employment_type — Тип трудоустройства для этой роли:\n",
    "    * PT (неполный рабочий день)\n",
    "    * FT (полный рабочий день)\n",
    "    * CT (контракт)\n",
    "    * FL (фриланс);\n",
    "* job_title — Роль, в которой соискатель работал в течение года;\n",
    "* employee_residence — Основная страна проживания сотрудника в течение рабочего года в виде кода страны ISO 3166;\n",
    "* remote_ratio — Общий объём работы, выполняемой удалённо. Возможные значения:\n",
    "    * 0 - (удалённой работы нет (менее 20 %))\n",
    "    * 50 - (частично удалённая работа)\n",
    "    * 100 - (полностью удалённая работа (более 80 %));\n",
    "* company_location — Страна главного офиса работодателя или филиала по контракту в виде кода страны ISO 3166.\n",
    "* company_size — Среднее количество людей, работавших в компании в течение года:\n",
    "    * S - (менее 50 сотрудников (небольшая компания))\n",
    "    * M - (от 50 до 250 сотрудников (средняя компания))\n",
    "    * L - (более 250 сотрудников (крупная компания)).\n",
    "\n",
    "Численные признаки:\n",
    "\n",
    "* salary_in_usd — Зарплата в долларах США (валютный курс, делённый на среднее значение курса доллара США за соответствующий год через fxdata.foorilla.com)"
   ]
  },
  {
   "cell_type": "markdown",
   "metadata": {},
   "source": [
    "### **Определение основных статистических характеристик для каждого из признаков**"
   ]
  },
  {
   "cell_type": "markdown",
   "metadata": {},
   "source": [
    "Для определения основных статестических характеристик прзнаков датасета постоим отчет с использованием библиотеки sweetviz"
   ]
  },
  {
   "cell_type": "code",
   "execution_count": 8,
   "metadata": {},
   "outputs": [
    {
     "data": {
      "application/vnd.jupyter.widget-view+json": {
       "model_id": "666e94015d0741119edfc6907b1b18aa",
       "version_major": 2,
       "version_minor": 0
      },
      "text/plain": [
       "                                             |          | [  0%]   00:00 -> (? left)"
      ]
     },
     "metadata": {},
     "output_type": "display_data"
    },
    {
     "name": "stdout",
     "output_type": "stream",
     "text": [
      "Report SWEETVIZ_REPORT.html was generated! NOTEBOOK/COLAB USERS: the web browser MAY not pop up, regardless, the report IS saved in your notebook/colab files.\n"
     ]
    }
   ],
   "source": [
    "import sweetviz as sv\n",
    "report = sv.analyze(data)\n",
    "report.show_html()"
   ]
  },
  {
   "cell_type": "markdown",
   "metadata": {},
   "source": [
    "    Вывод: Отчет по основным статистическим характеристикам признаков датасета получен"
   ]
  },
  {
   "cell_type": "markdown",
   "metadata": {},
   "source": [
    "### **Разведовательный анализ данных**"
   ]
  },
  {
   "cell_type": "markdown",
   "metadata": {},
   "source": [
    "#### **Визуальный анализ данных**"
   ]
  },
  {
   "cell_type": "markdown",
   "metadata": {},
   "source": [
    "##### **Распределение оплаты труда по всем соискателям по профессии Data Scientist за 2020-2022 годы:**"
   ]
  },
  {
   "cell_type": "code",
   "execution_count": 9,
   "metadata": {},
   "outputs": [
    {
     "data": {
      "image/png": "[encoded data removed]",
      "text/plain": [
       "<Figure size 1500x500 with 2 Axes>"
      ]
     },
     "metadata": {},
     "output_type": "display_data"
    }
   ],
   "source": [
    "filtered_data = data[data['job_title'] == 'Data Scientist']\n",
    "\n",
    "fig, axes = plt.subplots(1, 2, figsize=(15, 5))\n",
    "\n",
    "sns.histplot(filtered_data['salary_in_usd'], kde=True, ax=axes[0])\n",
    "axes[0].set(xlabel='Размер оплаты труда', ylabel='Частота')\n",
    "axes[0].set_title('Распределение оплаты труда в сфере Data Science')\n",
    "axes[0].axvline(filtered_data['salary_in_usd'].mean(), color='red', linestyle='--', linewidth=0.8)\n",
    "\n",
    "sns.boxplot(filtered_data['salary_in_usd'], ax=axes[1], orient='h', medianprops={\"color\": \"red\", \"linestyle\": '--'})\n",
    "axes[1].set(ylabel='Размер оплаты труда')\n",
    "axes[1].set_title('Распределение оплаты труда в сфере Data Science')\n",
    "\n",
    "plt.show()"
   ]
  },
  {
   "cell_type": "code",
   "execution_count": 10,
   "metadata": {},
   "outputs": [
    {
     "data": {
      "text/html": [
       "<div>\n",
       "<style scoped>\n",
       "    .dataframe tbody tr th:only-of-type {\n",
       "        vertical-align: middle;\n",
       "    }\n",
       "\n",
       "    .dataframe tbody tr th {\n",
       "        vertical-align: top;\n",
       "    }\n",
       "\n",
       "    .dataframe thead th {\n",
       "        text-align: right;\n",
       "    }\n",
       "</style>\n",
       "<table border=\"1\" class=\"dataframe\">\n",
       "  <thead>\n",
       "    <tr style=\"text-align: right;\">\n",
       "      <th></th>\n",
       "      <th>Размер страховых выплат</th>\n",
       "    </tr>\n",
       "  </thead>\n",
       "  <tbody>\n",
       "    <tr>\n",
       "      <th>count</th>\n",
       "      <td>143.00</td>\n",
       "    </tr>\n",
       "    <tr>\n",
       "      <th>mean</th>\n",
       "      <td>108187.83</td>\n",
       "    </tr>\n",
       "    <tr>\n",
       "      <th>std</th>\n",
       "      <td>64112.84</td>\n",
       "    </tr>\n",
       "    <tr>\n",
       "      <th>min</th>\n",
       "      <td>2859.00</td>\n",
       "    </tr>\n",
       "    <tr>\n",
       "      <th>25%</th>\n",
       "      <td>54724.00</td>\n",
       "    </tr>\n",
       "    <tr>\n",
       "      <th>50%</th>\n",
       "      <td>103691.00</td>\n",
       "    </tr>\n",
       "    <tr>\n",
       "      <th>75%</th>\n",
       "      <td>140850.00</td>\n",
       "    </tr>\n",
       "    <tr>\n",
       "      <th>max</th>\n",
       "      <td>412000.00</td>\n",
       "    </tr>\n",
       "  </tbody>\n",
       "</table>\n",
       "</div>"
      ],
      "text/plain": [
       "       Размер страховых выплат\n",
       "count                   143.00\n",
       "mean                 108187.83\n",
       "std                   64112.84\n",
       "min                    2859.00\n",
       "25%                   54724.00\n",
       "50%                  103691.00\n",
       "75%                  140850.00\n",
       "max                  412000.00"
      ]
     },
     "execution_count": 10,
     "metadata": {},
     "output_type": "execute_result"
    }
   ],
   "source": [
    "data_agg = filtered_data['salary_in_usd'].describe().round(2).to_frame()\n",
    "data_agg.columns = ['Размер страховых выплат']\n",
    "data_agg"
   ]
  },
  {
   "cell_type": "markdown",
   "metadata": {},
   "source": [
    "    Вывод: Распределение оплаты труда отлично от нормального, имеются выбросы."
   ]
  },
  {
   "cell_type": "markdown",
   "metadata": {},
   "source": [
    "##### **Оплата труда в зависимости от года, в котором была выплачена зарплата:**"
   ]
  },
  {
   "cell_type": "code",
   "execution_count": 13,
   "metadata": {},
   "outputs": [
    {
     "data": {
      "image/png": "[encoded data removed]",
      "text/plain": [
       "<Figure size 640x480 with 1 Axes>"
      ]
     },
     "metadata": {},
     "output_type": "display_data"
    }
   ],
   "source": [
    "ax = sns.boxplot(filtered_data, x='salary_in_usd', y='work_year', orient='h', medianprops={\"color\": \"red\", \"linestyle\": '--'})\n",
    "ax.set(xlabel='Размер оплаты труда', ylabel='Год')\n",
    "plt.title('Распределение оплаты труда по году в котором была выплачена зарплата')\n",
    "plt.show()"
   ]
  },
  {
   "cell_type": "code",
   "execution_count": 14,
   "metadata": {},
   "outputs": [
    {
     "name": "stdout",
     "output_type": "stream",
     "text": [
      "Распределение оплаты труда по году в котором была выплачена зарплата\n"
     ]
    },
    {
     "data": {
      "text/html": [
       "<div>\n",
       "<style scoped>\n",
       "    .dataframe tbody tr th:only-of-type {\n",
       "        vertical-align: middle;\n",
       "    }\n",
       "\n",
       "    .dataframe tbody tr th {\n",
       "        vertical-align: top;\n",
       "    }\n",
       "\n",
       "    .dataframe thead th {\n",
       "        text-align: right;\n",
       "    }\n",
       "</style>\n",
       "<table border=\"1\" class=\"dataframe\">\n",
       "  <thead>\n",
       "    <tr style=\"text-align: right;\">\n",
       "      <th></th>\n",
       "      <th>count</th>\n",
       "      <th>mean</th>\n",
       "      <th>std</th>\n",
       "      <th>min</th>\n",
       "      <th>25%</th>\n",
       "      <th>50%</th>\n",
       "      <th>75%</th>\n",
       "      <th>max</th>\n",
       "    </tr>\n",
       "    <tr>\n",
       "      <th>work_year</th>\n",
       "      <th></th>\n",
       "      <th></th>\n",
       "      <th></th>\n",
       "      <th></th>\n",
       "      <th></th>\n",
       "      <th></th>\n",
       "      <th></th>\n",
       "      <th></th>\n",
       "    </tr>\n",
       "  </thead>\n",
       "  <tbody>\n",
       "    <tr>\n",
       "      <th>2020</th>\n",
       "      <td>21.0</td>\n",
       "      <td>85970.52</td>\n",
       "      <td>81436.65</td>\n",
       "      <td>21669.0</td>\n",
       "      <td>42197.0</td>\n",
       "      <td>62726.0</td>\n",
       "      <td>105000.0</td>\n",
       "      <td>412000.0</td>\n",
       "    </tr>\n",
       "    <tr>\n",
       "      <th>2021</th>\n",
       "      <td>45.0</td>\n",
       "      <td>70671.73</td>\n",
       "      <td>45422.97</td>\n",
       "      <td>2859.0</td>\n",
       "      <td>33808.0</td>\n",
       "      <td>73000.0</td>\n",
       "      <td>100000.0</td>\n",
       "      <td>165000.0</td>\n",
       "    </tr>\n",
       "    <tr>\n",
       "      <th>2022</th>\n",
       "      <td>77.0</td>\n",
       "      <td>136172.09</td>\n",
       "      <td>54563.08</td>\n",
       "      <td>18442.0</td>\n",
       "      <td>100000.0</td>\n",
       "      <td>140000.0</td>\n",
       "      <td>176000.0</td>\n",
       "      <td>260000.0</td>\n",
       "    </tr>\n",
       "  </tbody>\n",
       "</table>\n",
       "</div>"
      ],
      "text/plain": [
       "           count       mean       std      min       25%       50%       75%  \\\n",
       "work_year                                                                      \n",
       "2020        21.0   85970.52  81436.65  21669.0   42197.0   62726.0  105000.0   \n",
       "2021        45.0   70671.73  45422.97   2859.0   33808.0   73000.0  100000.0   \n",
       "2022        77.0  136172.09  54563.08  18442.0  100000.0  140000.0  176000.0   \n",
       "\n",
       "                max  \n",
       "work_year            \n",
       "2020       412000.0  \n",
       "2021       165000.0  \n",
       "2022       260000.0  "
      ]
     },
     "execution_count": 14,
     "metadata": {},
     "output_type": "execute_result"
    }
   ],
   "source": [
    "data_agg = filtered_data.groupby('work_year')['salary_in_usd'].describe().round(2)\n",
    "print('Распределение оплаты труда по году в котором была выплачена зарплата')\n",
    "data_agg"
   ]
  },
  {
   "cell_type": "markdown",
   "metadata": {},
   "source": [
    "    Вывод: Распределение оплаты труда по году в котором была выплачена зарплата имеет тенденцию к уверенному увеличению средних и медианных значений за период с 2020 по 2022 гг.. В тоже время прослеживается уменьшение количества выбросов и уменьшение максимальных значений, что может свидетельствовать о росте спроса на данные виды специальностей в ИТ, так же о стадартизации квалификационных требований и компетенций самих соискателей, что выражено в уменьшении разницы между минимальными и максимальными величинами оплаты труда. Чтобы определить, являются ли эти различия статистически значимыми, проведём статистические тесты."
   ]
  },
  {
   "cell_type": "markdown",
   "metadata": {},
   "source": [
    "##### **Оплата труда в зависимости от опыта работы соискателя:**"
   ]
  },
  {
   "cell_type": "code",
   "execution_count": 15,
   "metadata": {},
   "outputs": [
    {
     "data": {
      "image/png": "[encoded data removed]",
      "text/plain": [
       "<Figure size 640x480 with 1 Axes>"
      ]
     },
     "metadata": {},
     "output_type": "display_data"
    }
   ],
   "source": [
    "ax = sns.boxplot(filtered_data, x='salary_in_usd', y='experience_level', orient='h', medianprops={\"color\": \"red\", \"linestyle\": '--'})\n",
    "ax.set(xlabel='Размер оплаты труда', ylabel='Опыт работы')\n",
    "plt.title('Оплата труда в зависимости от опыта работы соискателя')\n",
    "plt.show()"
   ]
  },
  {
   "cell_type": "code",
   "execution_count": 16,
   "metadata": {},
   "outputs": [
    {
     "name": "stdout",
     "output_type": "stream",
     "text": [
      "Оплата труда в зависимости от опыта работы соискателя\n"
     ]
    },
    {
     "data": {
      "text/html": [
       "<div>\n",
       "<style scoped>\n",
       "    .dataframe tbody tr th:only-of-type {\n",
       "        vertical-align: middle;\n",
       "    }\n",
       "\n",
       "    .dataframe tbody tr th {\n",
       "        vertical-align: top;\n",
       "    }\n",
       "\n",
       "    .dataframe thead th {\n",
       "        text-align: right;\n",
       "    }\n",
       "</style>\n",
       "<table border=\"1\" class=\"dataframe\">\n",
       "  <thead>\n",
       "    <tr style=\"text-align: right;\">\n",
       "      <th></th>\n",
       "      <th>count</th>\n",
       "      <th>mean</th>\n",
       "      <th>std</th>\n",
       "      <th>min</th>\n",
       "      <th>25%</th>\n",
       "      <th>50%</th>\n",
       "      <th>75%</th>\n",
       "      <th>max</th>\n",
       "    </tr>\n",
       "    <tr>\n",
       "      <th>experience_level</th>\n",
       "      <th></th>\n",
       "      <th></th>\n",
       "      <th></th>\n",
       "      <th></th>\n",
       "      <th></th>\n",
       "      <th></th>\n",
       "      <th></th>\n",
       "      <th></th>\n",
       "    </tr>\n",
       "  </thead>\n",
       "  <tbody>\n",
       "    <tr>\n",
       "      <th>EN</th>\n",
       "      <td>22.0</td>\n",
       "      <td>55330.91</td>\n",
       "      <td>31237.82</td>\n",
       "      <td>4000.0</td>\n",
       "      <td>31474.0</td>\n",
       "      <td>50483.5</td>\n",
       "      <td>85027.25</td>\n",
       "      <td>105000.0</td>\n",
       "    </tr>\n",
       "    <tr>\n",
       "      <th>MI</th>\n",
       "      <td>60.0</td>\n",
       "      <td>82039.13</td>\n",
       "      <td>46869.58</td>\n",
       "      <td>2859.0</td>\n",
       "      <td>41768.0</td>\n",
       "      <td>77479.0</td>\n",
       "      <td>118264.75</td>\n",
       "      <td>200000.0</td>\n",
       "    </tr>\n",
       "    <tr>\n",
       "      <th>SE</th>\n",
       "      <td>61.0</td>\n",
       "      <td>152971.02</td>\n",
       "      <td>58985.40</td>\n",
       "      <td>20171.0</td>\n",
       "      <td>120000.0</td>\n",
       "      <td>140400.0</td>\n",
       "      <td>180000.00</td>\n",
       "      <td>412000.0</td>\n",
       "    </tr>\n",
       "  </tbody>\n",
       "</table>\n",
       "</div>"
      ],
      "text/plain": [
       "                  count       mean       std      min       25%       50%  \\\n",
       "experience_level                                                            \n",
       "EN                 22.0   55330.91  31237.82   4000.0   31474.0   50483.5   \n",
       "MI                 60.0   82039.13  46869.58   2859.0   41768.0   77479.0   \n",
       "SE                 61.0  152971.02  58985.40  20171.0  120000.0  140400.0   \n",
       "\n",
       "                        75%       max  \n",
       "experience_level                       \n",
       "EN                 85027.25  105000.0  \n",
       "MI                118264.75  200000.0  \n",
       "SE                180000.00  412000.0  "
      ]
     },
     "execution_count": 16,
     "metadata": {},
     "output_type": "execute_result"
    }
   ],
   "source": [
    "data_agg = filtered_data.groupby('experience_level')['salary_in_usd'].describe().round(2)\n",
    "print('Оплата труда в зависимости от опыта работы соискателя')\n",
    "data_agg"
   ]
  },
  {
   "cell_type": "markdown",
   "metadata": {},
   "source": [
    "    Вывод: Среднее значение оплаты труда увеличивается с опытом работы соискателя. Поэтому чтобы определить, являются ли эти различия статистически значимыми, проведём статистические тесты."
   ]
  },
  {
   "cell_type": "markdown",
   "metadata": {},
   "source": [
    "##### **Зависимость оплаты труда от типа трудоустройства:**"
   ]
  },
  {
   "cell_type": "code",
   "execution_count": 17,
   "metadata": {},
   "outputs": [
    {
     "data": {
      "image/png": "[encoded data removed]",
      "text/plain": [
       "<Figure size 640x480 with 1 Axes>"
      ]
     },
     "metadata": {},
     "output_type": "display_data"
    }
   ],
   "source": [
    "ax = sns.boxplot(filtered_data, x='salary_in_usd', y='employment_type', orient='h', medianprops={\"color\": \"red\", \"linestyle\": '--'})\n",
    "ax.set(xlabel='Размер оплаты труда', ylabel='Тип трудаустройства')\n",
    "plt.title('Зависимость оплаты труда от типа трудоустройства')\n",
    "plt.show()"
   ]
  },
  {
   "cell_type": "code",
   "execution_count": 18,
   "metadata": {},
   "outputs": [
    {
     "name": "stdout",
     "output_type": "stream",
     "text": [
      "Зависимость оплаты труда от типа трудоустройства\n"
     ]
    },
    {
     "data": {
      "text/html": [
       "<div>\n",
       "<style scoped>\n",
       "    .dataframe tbody tr th:only-of-type {\n",
       "        vertical-align: middle;\n",
       "    }\n",
       "\n",
       "    .dataframe tbody tr th {\n",
       "        vertical-align: top;\n",
       "    }\n",
       "\n",
       "    .dataframe thead th {\n",
       "        text-align: right;\n",
       "    }\n",
       "</style>\n",
       "<table border=\"1\" class=\"dataframe\">\n",
       "  <thead>\n",
       "    <tr style=\"text-align: right;\">\n",
       "      <th></th>\n",
       "      <th>count</th>\n",
       "      <th>mean</th>\n",
       "      <th>std</th>\n",
       "      <th>min</th>\n",
       "      <th>25%</th>\n",
       "      <th>50%</th>\n",
       "      <th>75%</th>\n",
       "      <th>max</th>\n",
       "    </tr>\n",
       "    <tr>\n",
       "      <th>employment_type</th>\n",
       "      <th></th>\n",
       "      <th></th>\n",
       "      <th></th>\n",
       "      <th></th>\n",
       "      <th></th>\n",
       "      <th></th>\n",
       "      <th></th>\n",
       "      <th></th>\n",
       "    </tr>\n",
       "  </thead>\n",
       "  <tbody>\n",
       "    <tr>\n",
       "      <th>FL</th>\n",
       "      <td>1.0</td>\n",
       "      <td>100000.00</td>\n",
       "      <td>NaN</td>\n",
       "      <td>100000.0</td>\n",
       "      <td>100000.00</td>\n",
       "      <td>100000.0</td>\n",
       "      <td>100000.00</td>\n",
       "      <td>100000.0</td>\n",
       "    </tr>\n",
       "    <tr>\n",
       "      <th>FT</th>\n",
       "      <td>140.0</td>\n",
       "      <td>108922.79</td>\n",
       "      <td>64372.43</td>\n",
       "      <td>2859.0</td>\n",
       "      <td>55490.00</td>\n",
       "      <td>104796.0</td>\n",
       "      <td>141975.00</td>\n",
       "      <td>412000.0</td>\n",
       "    </tr>\n",
       "    <tr>\n",
       "      <th>PT</th>\n",
       "      <td>2.0</td>\n",
       "      <td>60834.50</td>\n",
       "      <td>55388.38</td>\n",
       "      <td>21669.0</td>\n",
       "      <td>41251.75</td>\n",
       "      <td>60834.5</td>\n",
       "      <td>80417.25</td>\n",
       "      <td>100000.0</td>\n",
       "    </tr>\n",
       "  </tbody>\n",
       "</table>\n",
       "</div>"
      ],
      "text/plain": [
       "                 count       mean       std       min        25%       50%  \\\n",
       "employment_type                                                              \n",
       "FL                 1.0  100000.00       NaN  100000.0  100000.00  100000.0   \n",
       "FT               140.0  108922.79  64372.43    2859.0   55490.00  104796.0   \n",
       "PT                 2.0   60834.50  55388.38   21669.0   41251.75   60834.5   \n",
       "\n",
       "                       75%       max  \n",
       "employment_type                       \n",
       "FL               100000.00  100000.0  \n",
       "FT               141975.00  412000.0  \n",
       "PT                80417.25  100000.0  "
      ]
     },
     "execution_count": 18,
     "metadata": {},
     "output_type": "execute_result"
    }
   ],
   "source": [
    "data_agg = filtered_data.groupby('employment_type')['salary_in_usd'].describe().round(2)\n",
    "print('Зависимость оплаты труда от типа трудоустройства')\n",
    "data_agg"
   ]
  },
  {
   "cell_type": "markdown",
   "metadata": {},
   "source": [
    "    Вывод: Распределения страховых выплат различны для разных типов трудоустройства. Чтобы определить, являются ли эти различия статистически значимыми, необходимы статистические тесты."
   ]
  },
  {
   "cell_type": "markdown",
   "metadata": {},
   "source": [
    "##### **Зависимость оплаты труда от страны проживания в течении рабочего года:**"
   ]
  },
  {
   "cell_type": "code",
   "execution_count": 19,
   "metadata": {},
   "outputs": [
    {
     "data": {
      "image/png": "[encoded data removed]",
      "text/plain": [
       "<Figure size 640x480 with 1 Axes>"
      ]
     },
     "metadata": {},
     "output_type": "display_data"
    }
   ],
   "source": [
    "ax = sns.boxplot(filtered_data, x='salary_in_usd', y='employee_residence', orient='h', medianprops={\"color\": \"red\", \"linestyle\": '--'})\n",
    "ax.set(xlabel='Размер оплаты труда', ylabel='Страна')\n",
    "plt.title('Зависимость оплаты труда от страны проживания в течении рабочего года')\n",
    "plt.show()"
   ]
  },
  {
   "cell_type": "code",
   "execution_count": 20,
   "metadata": {},
   "outputs": [
    {
     "name": "stdout",
     "output_type": "stream",
     "text": [
      "Зависимость оплаты труда от страны проживания в течении рабочего года\n"
     ]
    },
    {
     "data": {
      "text/html": [
       "<div>\n",
       "<style scoped>\n",
       "    .dataframe tbody tr th:only-of-type {\n",
       "        vertical-align: middle;\n",
       "    }\n",
       "\n",
       "    .dataframe tbody tr th {\n",
       "        vertical-align: top;\n",
       "    }\n",
       "\n",
       "    .dataframe thead th {\n",
       "        text-align: right;\n",
       "    }\n",
       "</style>\n",
       "<table border=\"1\" class=\"dataframe\">\n",
       "  <thead>\n",
       "    <tr style=\"text-align: right;\">\n",
       "      <th></th>\n",
       "      <th>count</th>\n",
       "      <th>mean</th>\n",
       "      <th>std</th>\n",
       "      <th>min</th>\n",
       "      <th>25%</th>\n",
       "      <th>50%</th>\n",
       "      <th>75%</th>\n",
       "      <th>max</th>\n",
       "    </tr>\n",
       "    <tr>\n",
       "      <th>employee_residence</th>\n",
       "      <th></th>\n",
       "      <th></th>\n",
       "      <th></th>\n",
       "      <th></th>\n",
       "      <th></th>\n",
       "      <th></th>\n",
       "      <th></th>\n",
       "      <th></th>\n",
       "    </tr>\n",
       "  </thead>\n",
       "  <tbody>\n",
       "    <tr>\n",
       "      <th>AT</th>\n",
       "      <td>1.0</td>\n",
       "      <td>91237.00</td>\n",
       "      <td>NaN</td>\n",
       "      <td>91237.0</td>\n",
       "      <td>91237.00</td>\n",
       "      <td>91237.0</td>\n",
       "      <td>91237.00</td>\n",
       "      <td>91237.0</td>\n",
       "    </tr>\n",
       "    <tr>\n",
       "      <th>AU</th>\n",
       "      <td>1.0</td>\n",
       "      <td>86703.00</td>\n",
       "      <td>NaN</td>\n",
       "      <td>86703.0</td>\n",
       "      <td>86703.00</td>\n",
       "      <td>86703.0</td>\n",
       "      <td>86703.00</td>\n",
       "      <td>86703.0</td>\n",
       "    </tr>\n",
       "    <tr>\n",
       "      <th>BR</th>\n",
       "      <td>2.0</td>\n",
       "      <td>56450.50</td>\n",
       "      <td>61588.29</td>\n",
       "      <td>12901.0</td>\n",
       "      <td>34675.75</td>\n",
       "      <td>56450.5</td>\n",
       "      <td>78225.25</td>\n",
       "      <td>100000.0</td>\n",
       "    </tr>\n",
       "    <tr>\n",
       "      <th>CA</th>\n",
       "      <td>6.0</td>\n",
       "      <td>81489.17</td>\n",
       "      <td>19500.74</td>\n",
       "      <td>52396.0</td>\n",
       "      <td>70945.50</td>\n",
       "      <td>81756.0</td>\n",
       "      <td>96934.50</td>\n",
       "      <td>103691.0</td>\n",
       "    </tr>\n",
       "    <tr>\n",
       "      <th>CH</th>\n",
       "      <td>1.0</td>\n",
       "      <td>122346.00</td>\n",
       "      <td>NaN</td>\n",
       "      <td>122346.0</td>\n",
       "      <td>122346.00</td>\n",
       "      <td>122346.0</td>\n",
       "      <td>122346.00</td>\n",
       "      <td>122346.0</td>\n",
       "    </tr>\n",
       "    <tr>\n",
       "      <th>CL</th>\n",
       "      <td>1.0</td>\n",
       "      <td>40038.00</td>\n",
       "      <td>NaN</td>\n",
       "      <td>40038.0</td>\n",
       "      <td>40038.00</td>\n",
       "      <td>40038.0</td>\n",
       "      <td>40038.00</td>\n",
       "      <td>40038.0</td>\n",
       "    </tr>\n",
       "    <tr>\n",
       "      <th>DE</th>\n",
       "      <td>7.0</td>\n",
       "      <td>74773.71</td>\n",
       "      <td>16834.87</td>\n",
       "      <td>49268.0</td>\n",
       "      <td>62096.50</td>\n",
       "      <td>79833.0</td>\n",
       "      <td>89694.00</td>\n",
       "      <td>90734.0</td>\n",
       "    </tr>\n",
       "    <tr>\n",
       "      <th>DZ</th>\n",
       "      <td>1.0</td>\n",
       "      <td>100000.00</td>\n",
       "      <td>NaN</td>\n",
       "      <td>100000.0</td>\n",
       "      <td>100000.00</td>\n",
       "      <td>100000.0</td>\n",
       "      <td>100000.00</td>\n",
       "      <td>100000.0</td>\n",
       "    </tr>\n",
       "    <tr>\n",
       "      <th>ES</th>\n",
       "      <td>3.0</td>\n",
       "      <td>41136.67</td>\n",
       "      <td>4935.34</td>\n",
       "      <td>37825.0</td>\n",
       "      <td>38300.50</td>\n",
       "      <td>38776.0</td>\n",
       "      <td>42792.50</td>\n",
       "      <td>46809.0</td>\n",
       "    </tr>\n",
       "    <tr>\n",
       "      <th>FR</th>\n",
       "      <td>8.0</td>\n",
       "      <td>51665.62</td>\n",
       "      <td>13412.16</td>\n",
       "      <td>36643.0</td>\n",
       "      <td>41626.75</td>\n",
       "      <td>50483.5</td>\n",
       "      <td>55575.50</td>\n",
       "      <td>77684.0</td>\n",
       "    </tr>\n",
       "    <tr>\n",
       "      <th>GB</th>\n",
       "      <td>11.0</td>\n",
       "      <td>88177.36</td>\n",
       "      <td>41393.50</td>\n",
       "      <td>39263.0</td>\n",
       "      <td>60847.00</td>\n",
       "      <td>76958.0</td>\n",
       "      <td>110808.00</td>\n",
       "      <td>183228.0</td>\n",
       "    </tr>\n",
       "    <tr>\n",
       "      <th>GR</th>\n",
       "      <td>1.0</td>\n",
       "      <td>68428.00</td>\n",
       "      <td>NaN</td>\n",
       "      <td>68428.0</td>\n",
       "      <td>68428.00</td>\n",
       "      <td>68428.0</td>\n",
       "      <td>68428.00</td>\n",
       "      <td>68428.0</td>\n",
       "    </tr>\n",
       "    <tr>\n",
       "      <th>HU</th>\n",
       "      <td>1.0</td>\n",
       "      <td>35735.00</td>\n",
       "      <td>NaN</td>\n",
       "      <td>35735.0</td>\n",
       "      <td>35735.00</td>\n",
       "      <td>35735.0</td>\n",
       "      <td>35735.00</td>\n",
       "      <td>35735.0</td>\n",
       "    </tr>\n",
       "    <tr>\n",
       "      <th>IN</th>\n",
       "      <td>9.0</td>\n",
       "      <td>23838.33</td>\n",
       "      <td>11758.72</td>\n",
       "      <td>5679.0</td>\n",
       "      <td>16904.00</td>\n",
       "      <td>28399.0</td>\n",
       "      <td>31615.00</td>\n",
       "      <td>40481.0</td>\n",
       "    </tr>\n",
       "    <tr>\n",
       "      <th>IT</th>\n",
       "      <td>1.0</td>\n",
       "      <td>21669.00</td>\n",
       "      <td>NaN</td>\n",
       "      <td>21669.0</td>\n",
       "      <td>21669.00</td>\n",
       "      <td>21669.0</td>\n",
       "      <td>21669.00</td>\n",
       "      <td>21669.0</td>\n",
       "    </tr>\n",
       "    <tr>\n",
       "      <th>JP</th>\n",
       "      <td>1.0</td>\n",
       "      <td>40000.00</td>\n",
       "      <td>NaN</td>\n",
       "      <td>40000.0</td>\n",
       "      <td>40000.00</td>\n",
       "      <td>40000.0</td>\n",
       "      <td>40000.00</td>\n",
       "      <td>40000.0</td>\n",
       "    </tr>\n",
       "    <tr>\n",
       "      <th>MX</th>\n",
       "      <td>1.0</td>\n",
       "      <td>2859.00</td>\n",
       "      <td>NaN</td>\n",
       "      <td>2859.0</td>\n",
       "      <td>2859.00</td>\n",
       "      <td>2859.0</td>\n",
       "      <td>2859.00</td>\n",
       "      <td>2859.0</td>\n",
       "    </tr>\n",
       "    <tr>\n",
       "      <th>NG</th>\n",
       "      <td>1.0</td>\n",
       "      <td>50000.00</td>\n",
       "      <td>NaN</td>\n",
       "      <td>50000.0</td>\n",
       "      <td>50000.00</td>\n",
       "      <td>50000.0</td>\n",
       "      <td>50000.00</td>\n",
       "      <td>50000.0</td>\n",
       "    </tr>\n",
       "    <tr>\n",
       "      <th>PH</th>\n",
       "      <td>1.0</td>\n",
       "      <td>45760.00</td>\n",
       "      <td>NaN</td>\n",
       "      <td>45760.0</td>\n",
       "      <td>45760.00</td>\n",
       "      <td>45760.0</td>\n",
       "      <td>45760.00</td>\n",
       "      <td>45760.0</td>\n",
       "    </tr>\n",
       "    <tr>\n",
       "      <th>PL</th>\n",
       "      <td>1.0</td>\n",
       "      <td>35590.00</td>\n",
       "      <td>NaN</td>\n",
       "      <td>35590.0</td>\n",
       "      <td>35590.00</td>\n",
       "      <td>35590.0</td>\n",
       "      <td>35590.00</td>\n",
       "      <td>35590.0</td>\n",
       "    </tr>\n",
       "    <tr>\n",
       "      <th>RS</th>\n",
       "      <td>1.0</td>\n",
       "      <td>25532.00</td>\n",
       "      <td>NaN</td>\n",
       "      <td>25532.0</td>\n",
       "      <td>25532.00</td>\n",
       "      <td>25532.0</td>\n",
       "      <td>25532.00</td>\n",
       "      <td>25532.0</td>\n",
       "    </tr>\n",
       "    <tr>\n",
       "      <th>RU</th>\n",
       "      <td>1.0</td>\n",
       "      <td>48000.00</td>\n",
       "      <td>NaN</td>\n",
       "      <td>48000.0</td>\n",
       "      <td>48000.00</td>\n",
       "      <td>48000.0</td>\n",
       "      <td>48000.00</td>\n",
       "      <td>48000.0</td>\n",
       "    </tr>\n",
       "    <tr>\n",
       "      <th>SG</th>\n",
       "      <td>1.0</td>\n",
       "      <td>119059.00</td>\n",
       "      <td>NaN</td>\n",
       "      <td>119059.0</td>\n",
       "      <td>119059.00</td>\n",
       "      <td>119059.0</td>\n",
       "      <td>119059.00</td>\n",
       "      <td>119059.0</td>\n",
       "    </tr>\n",
       "    <tr>\n",
       "      <th>TR</th>\n",
       "      <td>1.0</td>\n",
       "      <td>20171.00</td>\n",
       "      <td>NaN</td>\n",
       "      <td>20171.0</td>\n",
       "      <td>20171.00</td>\n",
       "      <td>20171.0</td>\n",
       "      <td>20171.00</td>\n",
       "      <td>20171.0</td>\n",
       "    </tr>\n",
       "    <tr>\n",
       "      <th>UA</th>\n",
       "      <td>1.0</td>\n",
       "      <td>13400.00</td>\n",
       "      <td>NaN</td>\n",
       "      <td>13400.0</td>\n",
       "      <td>13400.00</td>\n",
       "      <td>13400.0</td>\n",
       "      <td>13400.00</td>\n",
       "      <td>13400.0</td>\n",
       "    </tr>\n",
       "    <tr>\n",
       "      <th>US</th>\n",
       "      <td>78.0</td>\n",
       "      <td>149408.33</td>\n",
       "      <td>52576.02</td>\n",
       "      <td>58000.0</td>\n",
       "      <td>120000.00</td>\n",
       "      <td>140000.0</td>\n",
       "      <td>174500.00</td>\n",
       "      <td>412000.0</td>\n",
       "    </tr>\n",
       "    <tr>\n",
       "      <th>VN</th>\n",
       "      <td>1.0</td>\n",
       "      <td>4000.00</td>\n",
       "      <td>NaN</td>\n",
       "      <td>4000.0</td>\n",
       "      <td>4000.00</td>\n",
       "      <td>4000.0</td>\n",
       "      <td>4000.00</td>\n",
       "      <td>4000.0</td>\n",
       "    </tr>\n",
       "  </tbody>\n",
       "</table>\n",
       "</div>"
      ],
      "text/plain": [
       "                    count       mean       std       min        25%       50%  \\\n",
       "employee_residence                                                              \n",
       "AT                    1.0   91237.00       NaN   91237.0   91237.00   91237.0   \n",
       "AU                    1.0   86703.00       NaN   86703.0   86703.00   86703.0   \n",
       "BR                    2.0   56450.50  61588.29   12901.0   34675.75   56450.5   \n",
       "CA                    6.0   81489.17  19500.74   52396.0   70945.50   81756.0   \n",
       "CH                    1.0  122346.00       NaN  122346.0  122346.00  122346.0   \n",
       "CL                    1.0   40038.00       NaN   40038.0   40038.00   40038.0   \n",
       "DE                    7.0   74773.71  16834.87   49268.0   62096.50   79833.0   \n",
       "DZ                    1.0  100000.00       NaN  100000.0  100000.00  100000.0   \n",
       "ES                    3.0   41136.67   4935.34   37825.0   38300.50   38776.0   \n",
       "FR                    8.0   51665.62  13412.16   36643.0   41626.75   50483.5   \n",
       "GB                   11.0   88177.36  41393.50   39263.0   60847.00   76958.0   \n",
       "GR                    1.0   68428.00       NaN   68428.0   68428.00   68428.0   \n",
       "HU                    1.0   35735.00       NaN   35735.0   35735.00   35735.0   \n",
       "IN                    9.0   23838.33  11758.72    5679.0   16904.00   28399.0   \n",
       "IT                    1.0   21669.00       NaN   21669.0   21669.00   21669.0   \n",
       "JP                    1.0   40000.00       NaN   40000.0   40000.00   40000.0   \n",
       "MX                    1.0    2859.00       NaN    2859.0    2859.00    2859.0   \n",
       "NG                    1.0   50000.00       NaN   50000.0   50000.00   50000.0   \n",
       "PH                    1.0   45760.00       NaN   45760.0   45760.00   45760.0   \n",
       "PL                    1.0   35590.00       NaN   35590.0   35590.00   35590.0   \n",
       "RS                    1.0   25532.00       NaN   25532.0   25532.00   25532.0   \n",
       "RU                    1.0   48000.00       NaN   48000.0   48000.00   48000.0   \n",
       "SG                    1.0  119059.00       NaN  119059.0  119059.00  119059.0   \n",
       "TR                    1.0   20171.00       NaN   20171.0   20171.00   20171.0   \n",
       "UA                    1.0   13400.00       NaN   13400.0   13400.00   13400.0   \n",
       "US                   78.0  149408.33  52576.02   58000.0  120000.00  140000.0   \n",
       "VN                    1.0    4000.00       NaN    4000.0    4000.00    4000.0   \n",
       "\n",
       "                          75%       max  \n",
       "employee_residence                       \n",
       "AT                   91237.00   91237.0  \n",
       "AU                   86703.00   86703.0  \n",
       "BR                   78225.25  100000.0  \n",
       "CA                   96934.50  103691.0  \n",
       "CH                  122346.00  122346.0  \n",
       "CL                   40038.00   40038.0  \n",
       "DE                   89694.00   90734.0  \n",
       "DZ                  100000.00  100000.0  \n",
       "ES                   42792.50   46809.0  \n",
       "FR                   55575.50   77684.0  \n",
       "GB                  110808.00  183228.0  \n",
       "GR                   68428.00   68428.0  \n",
       "HU                   35735.00   35735.0  \n",
       "IN                   31615.00   40481.0  \n",
       "IT                   21669.00   21669.0  \n",
       "JP                   40000.00   40000.0  \n",
       "MX                    2859.00    2859.0  \n",
       "NG                   50000.00   50000.0  \n",
       "PH                   45760.00   45760.0  \n",
       "PL                   35590.00   35590.0  \n",
       "RS                   25532.00   25532.0  \n",
       "RU                   48000.00   48000.0  \n",
       "SG                  119059.00  119059.0  \n",
       "TR                   20171.00   20171.0  \n",
       "UA                   13400.00   13400.0  \n",
       "US                  174500.00  412000.0  \n",
       "VN                    4000.00    4000.0  "
      ]
     },
     "execution_count": 20,
     "metadata": {},
     "output_type": "execute_result"
    }
   ],
   "source": [
    "data_agg = filtered_data.groupby('employee_residence')['salary_in_usd'].describe().round(2)\n",
    "print('Зависимость оплаты труда от страны проживания в течении рабочего года')\n",
    "data_agg"
   ]
  },
  {
   "cell_type": "markdown",
   "metadata": {},
   "source": [
    "    Вывод: Среднее значение оплаты труда значительно отличается по разным странам проживания соискателей. Чтобы определить, являются ли эти различия статистически значимыми, необходимы статистические тесты."
   ]
  },
  {
   "cell_type": "markdown",
   "metadata": {},
   "source": [
    "##### **Зависимость оплаты труда от доли работы, выполняемой удаленно:**"
   ]
  },
  {
   "cell_type": "code",
   "execution_count": 21,
   "metadata": {},
   "outputs": [
    {
     "data": {
      "image/png": "[encoded data removed]",
      "text/plain": [
       "<Figure size 640x480 with 1 Axes>"
      ]
     },
     "metadata": {},
     "output_type": "display_data"
    }
   ],
   "source": [
    "ax = sns.boxplot(filtered_data, x='salary_in_usd', y='remote_ratio', orient='h', medianprops={\"color\": \"red\", \"linestyle\": '--'})\n",
    "ax.set(xlabel='Размер оплаты труда', ylabel='Доля удаленной работы')\n",
    "plt.title('Зависимость оплаты труда от доли работы, выполняемой удаленно')\n",
    "plt.show()"
   ]
  },
  {
   "cell_type": "code",
   "execution_count": 22,
   "metadata": {},
   "outputs": [
    {
     "name": "stdout",
     "output_type": "stream",
     "text": [
      "Зависимость оплаты труда от доли работы, выполняемой удаленно\n"
     ]
    },
    {
     "data": {
      "text/html": [
       "<div>\n",
       "<style scoped>\n",
       "    .dataframe tbody tr th:only-of-type {\n",
       "        vertical-align: middle;\n",
       "    }\n",
       "\n",
       "    .dataframe tbody tr th {\n",
       "        vertical-align: top;\n",
       "    }\n",
       "\n",
       "    .dataframe thead th {\n",
       "        text-align: right;\n",
       "    }\n",
       "</style>\n",
       "<table border=\"1\" class=\"dataframe\">\n",
       "  <thead>\n",
       "    <tr style=\"text-align: right;\">\n",
       "      <th></th>\n",
       "      <th>count</th>\n",
       "      <th>mean</th>\n",
       "      <th>std</th>\n",
       "      <th>min</th>\n",
       "      <th>25%</th>\n",
       "      <th>50%</th>\n",
       "      <th>75%</th>\n",
       "      <th>max</th>\n",
       "    </tr>\n",
       "    <tr>\n",
       "      <th>remote_ratio</th>\n",
       "      <th></th>\n",
       "      <th></th>\n",
       "      <th></th>\n",
       "      <th></th>\n",
       "      <th></th>\n",
       "      <th></th>\n",
       "      <th></th>\n",
       "      <th></th>\n",
       "    </tr>\n",
       "  </thead>\n",
       "  <tbody>\n",
       "    <tr>\n",
       "      <th>0</th>\n",
       "      <td>39.0</td>\n",
       "      <td>99520.74</td>\n",
       "      <td>58259.42</td>\n",
       "      <td>2859.0</td>\n",
       "      <td>50294.5</td>\n",
       "      <td>95550.0</td>\n",
       "      <td>140400.0</td>\n",
       "      <td>215300.0</td>\n",
       "    </tr>\n",
       "    <tr>\n",
       "      <th>50</th>\n",
       "      <td>25.0</td>\n",
       "      <td>74504.08</td>\n",
       "      <td>35602.82</td>\n",
       "      <td>20171.0</td>\n",
       "      <td>49646.0</td>\n",
       "      <td>62726.0</td>\n",
       "      <td>100000.0</td>\n",
       "      <td>147000.0</td>\n",
       "    </tr>\n",
       "    <tr>\n",
       "      <th>100</th>\n",
       "      <td>79.0</td>\n",
       "      <td>123125.94</td>\n",
       "      <td>69370.99</td>\n",
       "      <td>5679.0</td>\n",
       "      <td>76366.0</td>\n",
       "      <td>123000.0</td>\n",
       "      <td>162500.0</td>\n",
       "      <td>412000.0</td>\n",
       "    </tr>\n",
       "  </tbody>\n",
       "</table>\n",
       "</div>"
      ],
      "text/plain": [
       "              count       mean       std      min      25%       50%  \\\n",
       "remote_ratio                                                           \n",
       "0              39.0   99520.74  58259.42   2859.0  50294.5   95550.0   \n",
       "50             25.0   74504.08  35602.82  20171.0  49646.0   62726.0   \n",
       "100            79.0  123125.94  69370.99   5679.0  76366.0  123000.0   \n",
       "\n",
       "                   75%       max  \n",
       "remote_ratio                      \n",
       "0             140400.0  215300.0  \n",
       "50            100000.0  147000.0  \n",
       "100           162500.0  412000.0  "
      ]
     },
     "execution_count": 22,
     "metadata": {},
     "output_type": "execute_result"
    }
   ],
   "source": [
    "data_agg = filtered_data.groupby('remote_ratio')['salary_in_usd'].describe().round(2)\n",
    "print('Зависимость оплаты труда от доли работы, выполняемой удаленно')\n",
    "data_agg"
   ]
  },
  {
   "cell_type": "markdown",
   "metadata": {},
   "source": [
    "    Вывод: Среднее значение оплаты труда значительно отличается в зависимости от доли работы, выполняемой удаленно. Чтобы определить, являются ли эти различия статистически значимыми, необходимы статистические тесты."
   ]
  },
  {
   "cell_type": "markdown",
   "metadata": {},
   "source": [
    "##### **Зависимость заработной платы от страны где размещен главный офис компании:**"
   ]
  },
  {
   "cell_type": "code",
   "execution_count": 23,
   "metadata": {},
   "outputs": [
    {
     "data": {
      "image/png": "[encoded data removed]",
      "text/plain": [
       "<Figure size 640x480 with 1 Axes>"
      ]
     },
     "metadata": {},
     "output_type": "display_data"
    }
   ],
   "source": [
    "ax = sns.boxplot(filtered_data, x='salary_in_usd', y='company_location', orient='h', medianprops={\"color\": \"red\", \"linestyle\": '--'})\n",
    "ax.set(xlabel='Размер оплаты труда', ylabel='Страна')\n",
    "plt.title('Зависимость заработной платы от страны где размещен главный офис компании')\n",
    "plt.show()"
   ]
  },
  {
   "cell_type": "code",
   "execution_count": 24,
   "metadata": {},
   "outputs": [
    {
     "name": "stdout",
     "output_type": "stream",
     "text": [
      "Зависимость заработной платы от страны где размещен главный офис компании\n"
     ]
    },
    {
     "data": {
      "text/html": [
       "<div>\n",
       "<style scoped>\n",
       "    .dataframe tbody tr th:only-of-type {\n",
       "        vertical-align: middle;\n",
       "    }\n",
       "\n",
       "    .dataframe tbody tr th {\n",
       "        vertical-align: top;\n",
       "    }\n",
       "\n",
       "    .dataframe thead th {\n",
       "        text-align: right;\n",
       "    }\n",
       "</style>\n",
       "<table border=\"1\" class=\"dataframe\">\n",
       "  <thead>\n",
       "    <tr style=\"text-align: right;\">\n",
       "      <th></th>\n",
       "      <th>count</th>\n",
       "      <th>mean</th>\n",
       "      <th>std</th>\n",
       "      <th>min</th>\n",
       "      <th>25%</th>\n",
       "      <th>50%</th>\n",
       "      <th>75%</th>\n",
       "      <th>max</th>\n",
       "    </tr>\n",
       "    <tr>\n",
       "      <th>company_location</th>\n",
       "      <th></th>\n",
       "      <th></th>\n",
       "      <th></th>\n",
       "      <th></th>\n",
       "      <th></th>\n",
       "      <th></th>\n",
       "      <th></th>\n",
       "      <th></th>\n",
       "    </tr>\n",
       "  </thead>\n",
       "  <tbody>\n",
       "    <tr>\n",
       "      <th>AT</th>\n",
       "      <td>2.0</td>\n",
       "      <td>76352.00</td>\n",
       "      <td>21050.57</td>\n",
       "      <td>61467.0</td>\n",
       "      <td>68909.5</td>\n",
       "      <td>76352.0</td>\n",
       "      <td>83794.50</td>\n",
       "      <td>91237.0</td>\n",
       "    </tr>\n",
       "    <tr>\n",
       "      <th>AU</th>\n",
       "      <td>1.0</td>\n",
       "      <td>86703.00</td>\n",
       "      <td>NaN</td>\n",
       "      <td>86703.0</td>\n",
       "      <td>86703.0</td>\n",
       "      <td>86703.0</td>\n",
       "      <td>86703.00</td>\n",
       "      <td>86703.0</td>\n",
       "    </tr>\n",
       "    <tr>\n",
       "      <th>BR</th>\n",
       "      <td>1.0</td>\n",
       "      <td>12901.00</td>\n",
       "      <td>NaN</td>\n",
       "      <td>12901.0</td>\n",
       "      <td>12901.0</td>\n",
       "      <td>12901.0</td>\n",
       "      <td>12901.00</td>\n",
       "      <td>12901.0</td>\n",
       "    </tr>\n",
       "    <tr>\n",
       "      <th>CA</th>\n",
       "      <td>5.0</td>\n",
       "      <td>77787.00</td>\n",
       "      <td>19301.65</td>\n",
       "      <td>52396.0</td>\n",
       "      <td>69336.0</td>\n",
       "      <td>75774.0</td>\n",
       "      <td>87738.00</td>\n",
       "      <td>103691.0</td>\n",
       "    </tr>\n",
       "    <tr>\n",
       "      <th>CH</th>\n",
       "      <td>1.0</td>\n",
       "      <td>122346.00</td>\n",
       "      <td>NaN</td>\n",
       "      <td>122346.0</td>\n",
       "      <td>122346.0</td>\n",
       "      <td>122346.0</td>\n",
       "      <td>122346.00</td>\n",
       "      <td>122346.0</td>\n",
       "    </tr>\n",
       "    <tr>\n",
       "      <th>CL</th>\n",
       "      <td>1.0</td>\n",
       "      <td>40038.00</td>\n",
       "      <td>NaN</td>\n",
       "      <td>40038.0</td>\n",
       "      <td>40038.0</td>\n",
       "      <td>40038.0</td>\n",
       "      <td>40038.00</td>\n",
       "      <td>40038.0</td>\n",
       "    </tr>\n",
       "    <tr>\n",
       "      <th>DE</th>\n",
       "      <td>7.0</td>\n",
       "      <td>69640.14</td>\n",
       "      <td>25045.56</td>\n",
       "      <td>25532.0</td>\n",
       "      <td>55997.0</td>\n",
       "      <td>79833.0</td>\n",
       "      <td>89694.00</td>\n",
       "      <td>90734.0</td>\n",
       "    </tr>\n",
       "    <tr>\n",
       "      <th>DZ</th>\n",
       "      <td>1.0</td>\n",
       "      <td>100000.00</td>\n",
       "      <td>NaN</td>\n",
       "      <td>100000.0</td>\n",
       "      <td>100000.0</td>\n",
       "      <td>100000.0</td>\n",
       "      <td>100000.00</td>\n",
       "      <td>100000.0</td>\n",
       "    </tr>\n",
       "    <tr>\n",
       "      <th>ES</th>\n",
       "      <td>3.0</td>\n",
       "      <td>41136.67</td>\n",
       "      <td>4935.34</td>\n",
       "      <td>37825.0</td>\n",
       "      <td>38300.5</td>\n",
       "      <td>38776.0</td>\n",
       "      <td>42792.50</td>\n",
       "      <td>46809.0</td>\n",
       "    </tr>\n",
       "    <tr>\n",
       "      <th>FR</th>\n",
       "      <td>7.0</td>\n",
       "      <td>50085.57</td>\n",
       "      <td>13658.91</td>\n",
       "      <td>36643.0</td>\n",
       "      <td>41056.5</td>\n",
       "      <td>49646.0</td>\n",
       "      <td>52256.50</td>\n",
       "      <td>77684.0</td>\n",
       "    </tr>\n",
       "    <tr>\n",
       "      <th>GB</th>\n",
       "      <td>11.0</td>\n",
       "      <td>88177.36</td>\n",
       "      <td>41393.50</td>\n",
       "      <td>39263.0</td>\n",
       "      <td>60847.0</td>\n",
       "      <td>76958.0</td>\n",
       "      <td>110808.00</td>\n",
       "      <td>183228.0</td>\n",
       "    </tr>\n",
       "    <tr>\n",
       "      <th>HU</th>\n",
       "      <td>1.0</td>\n",
       "      <td>35735.00</td>\n",
       "      <td>NaN</td>\n",
       "      <td>35735.0</td>\n",
       "      <td>35735.0</td>\n",
       "      <td>35735.0</td>\n",
       "      <td>35735.00</td>\n",
       "      <td>35735.0</td>\n",
       "    </tr>\n",
       "    <tr>\n",
       "      <th>IL</th>\n",
       "      <td>1.0</td>\n",
       "      <td>119059.00</td>\n",
       "      <td>NaN</td>\n",
       "      <td>119059.0</td>\n",
       "      <td>119059.0</td>\n",
       "      <td>119059.0</td>\n",
       "      <td>119059.00</td>\n",
       "      <td>119059.0</td>\n",
       "    </tr>\n",
       "    <tr>\n",
       "      <th>IN</th>\n",
       "      <td>8.0</td>\n",
       "      <td>26108.25</td>\n",
       "      <td>10248.05</td>\n",
       "      <td>9466.0</td>\n",
       "      <td>18057.5</td>\n",
       "      <td>29075.0</td>\n",
       "      <td>32163.25</td>\n",
       "      <td>40481.0</td>\n",
       "    </tr>\n",
       "    <tr>\n",
       "      <th>IT</th>\n",
       "      <td>1.0</td>\n",
       "      <td>21669.00</td>\n",
       "      <td>NaN</td>\n",
       "      <td>21669.0</td>\n",
       "      <td>21669.0</td>\n",
       "      <td>21669.0</td>\n",
       "      <td>21669.00</td>\n",
       "      <td>21669.0</td>\n",
       "    </tr>\n",
       "    <tr>\n",
       "      <th>LU</th>\n",
       "      <td>1.0</td>\n",
       "      <td>62726.00</td>\n",
       "      <td>NaN</td>\n",
       "      <td>62726.0</td>\n",
       "      <td>62726.0</td>\n",
       "      <td>62726.0</td>\n",
       "      <td>62726.00</td>\n",
       "      <td>62726.0</td>\n",
       "    </tr>\n",
       "    <tr>\n",
       "      <th>MX</th>\n",
       "      <td>1.0</td>\n",
       "      <td>2859.00</td>\n",
       "      <td>NaN</td>\n",
       "      <td>2859.0</td>\n",
       "      <td>2859.0</td>\n",
       "      <td>2859.0</td>\n",
       "      <td>2859.00</td>\n",
       "      <td>2859.0</td>\n",
       "    </tr>\n",
       "    <tr>\n",
       "      <th>MY</th>\n",
       "      <td>1.0</td>\n",
       "      <td>40000.00</td>\n",
       "      <td>NaN</td>\n",
       "      <td>40000.0</td>\n",
       "      <td>40000.0</td>\n",
       "      <td>40000.0</td>\n",
       "      <td>40000.00</td>\n",
       "      <td>40000.0</td>\n",
       "    </tr>\n",
       "    <tr>\n",
       "      <th>NG</th>\n",
       "      <td>1.0</td>\n",
       "      <td>50000.00</td>\n",
       "      <td>NaN</td>\n",
       "      <td>50000.0</td>\n",
       "      <td>50000.0</td>\n",
       "      <td>50000.0</td>\n",
       "      <td>50000.00</td>\n",
       "      <td>50000.0</td>\n",
       "    </tr>\n",
       "    <tr>\n",
       "      <th>PL</th>\n",
       "      <td>1.0</td>\n",
       "      <td>35590.00</td>\n",
       "      <td>NaN</td>\n",
       "      <td>35590.0</td>\n",
       "      <td>35590.0</td>\n",
       "      <td>35590.0</td>\n",
       "      <td>35590.00</td>\n",
       "      <td>35590.0</td>\n",
       "    </tr>\n",
       "    <tr>\n",
       "      <th>TR</th>\n",
       "      <td>1.0</td>\n",
       "      <td>20171.00</td>\n",
       "      <td>NaN</td>\n",
       "      <td>20171.0</td>\n",
       "      <td>20171.0</td>\n",
       "      <td>20171.0</td>\n",
       "      <td>20171.00</td>\n",
       "      <td>20171.0</td>\n",
       "    </tr>\n",
       "    <tr>\n",
       "      <th>UA</th>\n",
       "      <td>1.0</td>\n",
       "      <td>13400.00</td>\n",
       "      <td>NaN</td>\n",
       "      <td>13400.0</td>\n",
       "      <td>13400.0</td>\n",
       "      <td>13400.0</td>\n",
       "      <td>13400.00</td>\n",
       "      <td>13400.0</td>\n",
       "    </tr>\n",
       "    <tr>\n",
       "      <th>US</th>\n",
       "      <td>84.0</td>\n",
       "      <td>143115.68</td>\n",
       "      <td>56252.98</td>\n",
       "      <td>5679.0</td>\n",
       "      <td>105000.0</td>\n",
       "      <td>140000.0</td>\n",
       "      <td>167750.00</td>\n",
       "      <td>412000.0</td>\n",
       "    </tr>\n",
       "    <tr>\n",
       "      <th>VN</th>\n",
       "      <td>1.0</td>\n",
       "      <td>4000.00</td>\n",
       "      <td>NaN</td>\n",
       "      <td>4000.0</td>\n",
       "      <td>4000.0</td>\n",
       "      <td>4000.0</td>\n",
       "      <td>4000.00</td>\n",
       "      <td>4000.0</td>\n",
       "    </tr>\n",
       "  </tbody>\n",
       "</table>\n",
       "</div>"
      ],
      "text/plain": [
       "                  count       mean       std       min       25%       50%  \\\n",
       "company_location                                                             \n",
       "AT                  2.0   76352.00  21050.57   61467.0   68909.5   76352.0   \n",
       "AU                  1.0   86703.00       NaN   86703.0   86703.0   86703.0   \n",
       "BR                  1.0   12901.00       NaN   12901.0   12901.0   12901.0   \n",
       "CA                  5.0   77787.00  19301.65   52396.0   69336.0   75774.0   \n",
       "CH                  1.0  122346.00       NaN  122346.0  122346.0  122346.0   \n",
       "CL                  1.0   40038.00       NaN   40038.0   40038.0   40038.0   \n",
       "DE                  7.0   69640.14  25045.56   25532.0   55997.0   79833.0   \n",
       "DZ                  1.0  100000.00       NaN  100000.0  100000.0  100000.0   \n",
       "ES                  3.0   41136.67   4935.34   37825.0   38300.5   38776.0   \n",
       "FR                  7.0   50085.57  13658.91   36643.0   41056.5   49646.0   \n",
       "GB                 11.0   88177.36  41393.50   39263.0   60847.0   76958.0   \n",
       "HU                  1.0   35735.00       NaN   35735.0   35735.0   35735.0   \n",
       "IL                  1.0  119059.00       NaN  119059.0  119059.0  119059.0   \n",
       "IN                  8.0   26108.25  10248.05    9466.0   18057.5   29075.0   \n",
       "IT                  1.0   21669.00       NaN   21669.0   21669.0   21669.0   \n",
       "LU                  1.0   62726.00       NaN   62726.0   62726.0   62726.0   \n",
       "MX                  1.0    2859.00       NaN    2859.0    2859.0    2859.0   \n",
       "MY                  1.0   40000.00       NaN   40000.0   40000.0   40000.0   \n",
       "NG                  1.0   50000.00       NaN   50000.0   50000.0   50000.0   \n",
       "PL                  1.0   35590.00       NaN   35590.0   35590.0   35590.0   \n",
       "TR                  1.0   20171.00       NaN   20171.0   20171.0   20171.0   \n",
       "UA                  1.0   13400.00       NaN   13400.0   13400.0   13400.0   \n",
       "US                 84.0  143115.68  56252.98    5679.0  105000.0  140000.0   \n",
       "VN                  1.0    4000.00       NaN    4000.0    4000.0    4000.0   \n",
       "\n",
       "                        75%       max  \n",
       "company_location                       \n",
       "AT                 83794.50   91237.0  \n",
       "AU                 86703.00   86703.0  \n",
       "BR                 12901.00   12901.0  \n",
       "CA                 87738.00  103691.0  \n",
       "CH                122346.00  122346.0  \n",
       "CL                 40038.00   40038.0  \n",
       "DE                 89694.00   90734.0  \n",
       "DZ                100000.00  100000.0  \n",
       "ES                 42792.50   46809.0  \n",
       "FR                 52256.50   77684.0  \n",
       "GB                110808.00  183228.0  \n",
       "HU                 35735.00   35735.0  \n",
       "IL                119059.00  119059.0  \n",
       "IN                 32163.25   40481.0  \n",
       "IT                 21669.00   21669.0  \n",
       "LU                 62726.00   62726.0  \n",
       "MX                  2859.00    2859.0  \n",
       "MY                 40000.00   40000.0  \n",
       "NG                 50000.00   50000.0  \n",
       "PL                 35590.00   35590.0  \n",
       "TR                 20171.00   20171.0  \n",
       "UA                 13400.00   13400.0  \n",
       "US                167750.00  412000.0  \n",
       "VN                  4000.00    4000.0  "
      ]
     },
     "execution_count": 24,
     "metadata": {},
     "output_type": "execute_result"
    }
   ],
   "source": [
    "data_agg = filtered_data.groupby('company_location')['salary_in_usd'].describe().round(2)\n",
    "print('Зависимость заработной платы от страны где размещен главный офис компании')\n",
    "data_agg"
   ]
  },
  {
   "cell_type": "markdown",
   "metadata": {},
   "source": [
    "    Вывод: Среднее значение оплаты труда значительно отличается по разным странам размещения головного офиса компании. Чтобы определить, являются ли эти различия статистически значимыми, необходимы статистические тесты."
   ]
  },
  {
   "cell_type": "markdown",
   "metadata": {},
   "source": [
    "##### **Зависимость размера заработной платы от размеров компании:**"
   ]
  },
  {
   "cell_type": "code",
   "execution_count": 25,
   "metadata": {},
   "outputs": [
    {
     "data": {
      "image/png": "[encoded data removed]",
      "text/plain": [
       "<Figure size 640x480 with 1 Axes>"
      ]
     },
     "metadata": {},
     "output_type": "display_data"
    }
   ],
   "source": [
    "ax = sns.boxplot(filtered_data, x='salary_in_usd', y='company_size', orient='h', medianprops={\"color\": \"red\", \"linestyle\": '--'})\n",
    "ax.set(xlabel='Размер оплаты труда', ylabel='Размер компании')\n",
    "plt.title('Зависимость заработной платы от размеров компании')\n",
    "plt.show()"
   ]
  },
  {
   "cell_type": "code",
   "execution_count": 26,
   "metadata": {},
   "outputs": [
    {
     "name": "stdout",
     "output_type": "stream",
     "text": [
      "Зависимость заработной платы от размера компании\n"
     ]
    },
    {
     "data": {
      "text/html": [
       "<div>\n",
       "<style scoped>\n",
       "    .dataframe tbody tr th:only-of-type {\n",
       "        vertical-align: middle;\n",
       "    }\n",
       "\n",
       "    .dataframe tbody tr th {\n",
       "        vertical-align: top;\n",
       "    }\n",
       "\n",
       "    .dataframe thead th {\n",
       "        text-align: right;\n",
       "    }\n",
       "</style>\n",
       "<table border=\"1\" class=\"dataframe\">\n",
       "  <thead>\n",
       "    <tr style=\"text-align: right;\">\n",
       "      <th></th>\n",
       "      <th>count</th>\n",
       "      <th>mean</th>\n",
       "      <th>std</th>\n",
       "      <th>min</th>\n",
       "      <th>25%</th>\n",
       "      <th>50%</th>\n",
       "      <th>75%</th>\n",
       "      <th>max</th>\n",
       "    </tr>\n",
       "    <tr>\n",
       "      <th>company_size</th>\n",
       "      <th></th>\n",
       "      <th></th>\n",
       "      <th></th>\n",
       "      <th></th>\n",
       "      <th></th>\n",
       "      <th></th>\n",
       "      <th></th>\n",
       "      <th></th>\n",
       "    </tr>\n",
       "  </thead>\n",
       "  <tbody>\n",
       "    <tr>\n",
       "      <th>L</th>\n",
       "      <td>45.0</td>\n",
       "      <td>103313.36</td>\n",
       "      <td>71815.18</td>\n",
       "      <td>13400.0</td>\n",
       "      <td>50000.0</td>\n",
       "      <td>90734.0</td>\n",
       "      <td>135000.0</td>\n",
       "      <td>412000.0</td>\n",
       "    </tr>\n",
       "    <tr>\n",
       "      <th>M</th>\n",
       "      <td>77.0</td>\n",
       "      <td>126380.75</td>\n",
       "      <td>56389.53</td>\n",
       "      <td>4000.0</td>\n",
       "      <td>90000.0</td>\n",
       "      <td>130000.0</td>\n",
       "      <td>165000.0</td>\n",
       "      <td>260000.0</td>\n",
       "    </tr>\n",
       "    <tr>\n",
       "      <th>S</th>\n",
       "      <td>21.0</td>\n",
       "      <td>51925.76</td>\n",
       "      <td>33216.29</td>\n",
       "      <td>2859.0</td>\n",
       "      <td>21669.0</td>\n",
       "      <td>49268.0</td>\n",
       "      <td>82500.0</td>\n",
       "      <td>105000.0</td>\n",
       "    </tr>\n",
       "  </tbody>\n",
       "</table>\n",
       "</div>"
      ],
      "text/plain": [
       "              count       mean       std      min      25%       50%  \\\n",
       "company_size                                                           \n",
       "L              45.0  103313.36  71815.18  13400.0  50000.0   90734.0   \n",
       "M              77.0  126380.75  56389.53   4000.0  90000.0  130000.0   \n",
       "S              21.0   51925.76  33216.29   2859.0  21669.0   49268.0   \n",
       "\n",
       "                   75%       max  \n",
       "company_size                      \n",
       "L             135000.0  412000.0  \n",
       "M             165000.0  260000.0  \n",
       "S              82500.0  105000.0  "
      ]
     },
     "execution_count": 26,
     "metadata": {},
     "output_type": "execute_result"
    }
   ],
   "source": [
    "data_agg = filtered_data.groupby('company_size')['salary_in_usd'].describe().round(2)\n",
    "print('Зависимость заработной платы от размера компании')\n",
    "data_agg"
   ]
  },
  {
   "cell_type": "markdown",
   "metadata": {},
   "source": [
    "    Вывод: Среднее значение оплаты труда значительно отличается в зависимости от компании. Чтобы определить, являются ли эти различия статистически значимыми, необходимы статистические тесты."
   ]
  },
  {
   "cell_type": "markdown",
   "metadata": {},
   "source": [
    "### **Статистический анализ данных**"
   ]
  },
  {
   "cell_type": "code",
   "execution_count": 27,
   "metadata": {},
   "outputs": [],
   "source": [
    "# функция для принятия решения о нормальности\n",
    "def decision_normality(p):\n",
    "    print('p-value = {:.3f}'.format(p))\n",
    "    if p <= alpha:\n",
    "        print('p-значение меньше, чем заданный уровень значимости {:.2f}. Распределение отлично от нормального'.format(alpha))\n",
    "    else:\n",
    "        print('p-значение больше, чем заданный уровень значимости {:.2f}. Распределение является нормальным'.format(alpha))\n",
    "\n",
    "# функция для принятия решения об отклонении нулевой гипотезы\n",
    "def decision_hypothesis(p):\n",
    "    print('p-value = {:.3f}'.format(p))\n",
    "    if p <= alpha:\n",
    "        print('p-значение меньше, чем заданный уровень значимости {:.2f}. Отвергаем нулевую гипотезу в пользу альтернативной.'.format(alpha))\n",
    "    else:\n",
    "        print('p-значение больше, чем заданный уровень значимости {:.2f}. У нас нет оснований отвергнуть нулевую гипотезу.'.format(alpha))"
   ]
  },
  {
   "cell_type": "markdown",
   "metadata": {},
   "source": [
    "#### **Наблюдается ли ежегодный рост зарплат у специалистов Data Scientist?**"
   ]
  },
  {
   "cell_type": "markdown",
   "metadata": {},
   "source": [
    "Распределение признака на протяжении 2020, 2021 и 2022 года является временным ряжом, что не попадает под категорию рассматриваемых тестов. Проведем попарные выборочные тесты."
   ]
  },
  {
   "cell_type": "markdown",
   "metadata": {},
   "source": [
    "***Проверка на нормальность***\n",
    "\n",
    "*С помощью теста Шапиро-Уилка проверим, распределён ли признак нормально. Напомним гипотезы теста Шапиро-Уилка:*\n",
    "\n",
    "*Нулевая гипотеза ($H_0$): распределение данные является нормальным.*\n",
    "\n",
    "*Альтернативная гипотеза ($H_1$): распределение данных отлично от нормального.*"
   ]
  },
  {
   "cell_type": "code",
   "execution_count": 28,
   "metadata": {},
   "outputs": [
    {
     "name": "stdout",
     "output_type": "stream",
     "text": [
      "Для 2021:\n",
      "p-value = 0.125\n",
      "p-значение больше, чем заданный уровень значимости 0.05. Распределение является нормальным\n",
      "Для 2022:\n",
      "p-value = 0.327\n",
      "p-значение больше, чем заданный уровень значимости 0.05. Распределение является нормальным\n"
     ]
    }
   ],
   "source": [
    "# задаем уровень, с которым будем сравнивать для 2021 года\n",
    "data_agg = filtered_data.groupby('company_size')['salary_in_usd'].describe().round(2)\n",
    "salary_2020 = data_agg['mean'].iloc[0]\n",
    "salary_2021 = data_agg['mean'].iloc[1]\n",
    "\n",
    "# проверим нормальность распеределения зарплат в 2021 году\n",
    "salary__2021 = filtered_data[filtered_data['work_year'] == 2021]['salary_in_usd']\n",
    "salary__2022 = filtered_data[filtered_data['work_year'] == 2022]['salary_in_usd']\n",
    "\n",
    "# проведем тест Шапиро-Уилка\n",
    "print('Для 2021:')\n",
    "result = stats.shapiro(salary__2021)\n",
    "decision_normality(result[1])\n",
    "\n",
    "print('Для 2022:')\n",
    "result = stats.shapiro(salary__2022)\n",
    "decision_normality(result[1])"
   ]
  },
  {
   "cell_type": "markdown",
   "metadata": {},
   "source": [
    "**Сформулируем нулевую и альтернативные гипотезы**\n",
    "\n",
    "Нулевая гипотеза ($H_0$): размер зарплат у специалистов Data Scientist в 2020 г. ($μ_1$) меньше или равен размеру зарплат у специалистов Data Scientist в 2021 г. ($μ_2$) и размер зарплат у специалистов Data Scientist в 2021 г. ($μ_2$) меньше или равен размеру зарплат у специалистов Data Scientist в 2022 г. ($μ_3$), рост отсутствует.\n",
    "\n",
    "$$ H_0 : μ_1 <= μ_2 <= μ_3$$\n",
    "\n",
    "Альтернативная гипотеза ($H_1$): размер зарплат у специалистов Data Scientist в 2020 г. ($μ_1$) больше размера зарплат у специалистов Data Scientist в 2021 г. ($μ_2$) и размер зарплат у специалистов Data Scientist в 2021 г. ($μ_2$) больше размера зарплат у специалистов Data Scientist в 2022 г. ($μ_3$), рост отсутствует.\n",
    "\n",
    "$$ H_1 : μ_1 > μ_2 > μ_3$$"
   ]
  },
  {
   "cell_type": "markdown",
   "metadata": {},
   "source": [
    "**Выберем подходящий статистический тест**\n",
    "\n",
    "* У признака заработная плата - количественный тип.\n",
    "* 1 сравнимая группа.\n",
    "* Распределение нориальное.\n",
    "\n",
    "Для проверки нашей гипотезы можно использовать одновыборочный t-критерий."
   ]
  },
  {
   "cell_type": "markdown",
   "metadata": {},
   "source": [
    "**Проведем тест:**"
   ]
  },
  {
   "cell_type": "code",
   "execution_count": 29,
   "metadata": {},
   "outputs": [
    {
     "name": "stdout",
     "output_type": "stream",
     "text": [
      "2021:\n",
      "p-value = 1.000\n",
      "p-значение больше, чем заданный уровень значимости 0.05. У нас нет оснований отвергнуть нулевую гипотезу.\n",
      "2022:\n",
      "p-value = 0.060\n",
      "p-значение больше, чем заданный уровень значимости 0.05. У нас нет оснований отвергнуть нулевую гипотезу.\n"
     ]
    }
   ],
   "source": [
    "# проводим тест\n",
    "_, p = stats.ttest_1samp(salary__2021, popmean=salary_2020, alternative='greater')\n",
    "print('2021:')\n",
    "decision_hypothesis(p)\n",
    "\n",
    "_, p = stats.ttest_1samp(salary__2022, popmean=salary_2021, alternative='greater')\n",
    "print('2022:')\n",
    "decision_hypothesis(p)"
   ]
  },
  {
   "cell_type": "markdown",
   "metadata": {},
   "source": [
    "    Вывод: поскольку для двух последовательных периодов гипотезы получили различный результат, сделать вывод о ежегодном росте не представляется возможным. Рост средней заработной платы наблюдается только в 2022 году по отношению к 2021 году."
   ]
  }
 ],
 "metadata": {
  "kernelspec": {
   "display_name": "Python 3",
   "language": "python",
   "name": "python3"
  },
  "language_info": {
   "codemirror_mode": {
    "name": "ipython",
    "version": 3
   },
   "file_extension": ".py",
   "mimetype": "text/x-python",
   "name": "python",
   "nbconvert_exporter": "python",
   "pygments_lexer": "ipython3",
   "version": "3.11.8"
  }
 },
 "nbformat": 4,
 "nbformat_minor": 2
}
