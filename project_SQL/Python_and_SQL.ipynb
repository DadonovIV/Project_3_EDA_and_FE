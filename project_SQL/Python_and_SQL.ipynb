{
  "cells": [
    {
      "cell_type": "markdown",
      "id": "963361ba",
      "metadata": {
        "id": "963361ba"
      },
      "source": [
        "### Настройки"
      ]
    },
    {
      "cell_type": "markdown",
      "id": "BAOI-9wun13V",
      "metadata": {
        "id": "BAOI-9wun13V"
      },
      "source": [
        "Начинаем с импорта библиотек"
      ]
    },
    {
      "cell_type": "code",
      "execution_count": 225,
      "id": "928bd544",
      "metadata": {
        "id": "928bd544"
      },
      "outputs": [],
      "source": [
        "import pandas as pd\n",
        "import psycopg2"
      ]
    },
    {
      "cell_type": "code",
      "execution_count": 226,
      "id": "hs66HgVWqgRA",
      "metadata": {
        "id": "hs66HgVWqgRA"
      },
      "outputs": [],
      "source": [
        "# хороший тон при фиксации изменений в github не публиковать код с открытыми данными для входа\n",
        "# для запуска кода поместите данные, которые указаны на странице курса в эту ячейку\n",
        "# при размещении в github удалите эту ячейку\n",
        "DBNAME = 'project_sql'\n",
        "USER = 'skillfactory'\n",
        "PASSWORD = 'cCkxxLVrDE8EbvjueeMedPKt'\n",
        "HOST = '84.201.134.129'\n",
        "PORT = 5432"
      ]
    },
    {
      "cell_type": "markdown",
      "id": "TEgQI_RKfqa9",
      "metadata": {
        "id": "TEgQI_RKfqa9"
      },
      "source": [
        "Создаем соединение с заданными параметрами"
      ]
    },
    {
      "cell_type": "code",
      "execution_count": 227,
      "id": "70d84b8f",
      "metadata": {
        "id": "70d84b8f"
      },
      "outputs": [],
      "source": [
        "connection = psycopg2.connect(\n",
        "    dbname=DBNAME,\n",
        "    user=USER,\n",
        "    host=HOST,\n",
        "    password=PASSWORD,\n",
        "    port=PORT\n",
        ")"
      ]
    },
    {
      "cell_type": "markdown",
      "id": "06k1EnoRiC-I",
      "metadata": {
        "id": "06k1EnoRiC-I"
      },
      "source": [
        "Запрос"
      ]
    },
    {
      "cell_type": "code",
      "execution_count": 13,
      "id": "35e24169",
      "metadata": {
        "id": "35e24169"
      },
      "outputs": [],
      "source": [
        "# код запроса представляет из себя строковую переменную \n",
        "# 5.2\n",
        "query = f'''select a.name, count(distinct e.id) cnt_emp, count(distinct v.id) cnt_vac\n",
        "            from\n",
        "                  areas a\n",
        "                  left join employers e on a.id = e.area\n",
        "                  left join vacancies v on v.area_id = a.id\n",
        "            where v.id is null\n",
        "            group by a.id\n",
        "            order by cnt_emp desc\n",
        "         '''\n",
        "# лучше использовать f-строки - так удобнее передавать параметры"
      ]
    },
    {
      "cell_type": "markdown",
      "id": "52648c9f",
      "metadata": {
        "id": "52648c9f"
      },
      "source": [
        "### Выполнение запроса"
      ]
    },
    {
      "cell_type": "code",
      "execution_count": 14,
      "id": "2fe9f6eb",
      "metadata": {
        "colab": {
          "base_uri": "https://localhost:8080/",
          "height": 363
        },
        "id": "2fe9f6eb",
        "outputId": "771dd6f1-4300-4076-e462-d7ce388295d5"
      },
      "outputs": [
        {
          "name": "stderr",
          "output_type": "stream",
          "text": [
            "C:\\Users\\ilyad\\AppData\\Local\\Temp\\ipykernel_13568\\2473184231.py:2: UserWarning: pandas only supports SQLAlchemy connectable (engine/connection) or database string URI or sqlite3 DBAPI2 connection. Other DBAPI2 objects are not tested. Please consider using SQLAlchemy.\n",
            "  df = pd.read_sql_query(query, connection)\n"
          ]
        },
        {
          "data": {
            "text/html": [
              "<div>\n",
              "<style scoped>\n",
              "    .dataframe tbody tr th:only-of-type {\n",
              "        vertical-align: middle;\n",
              "    }\n",
              "\n",
              "    .dataframe tbody tr th {\n",
              "        vertical-align: top;\n",
              "    }\n",
              "\n",
              "    .dataframe thead th {\n",
              "        text-align: right;\n",
              "    }\n",
              "</style>\n",
              "<table border=\"1\" class=\"dataframe\">\n",
              "  <thead>\n",
              "    <tr style=\"text-align: right;\">\n",
              "      <th></th>\n",
              "      <th>name</th>\n",
              "      <th>cnt_emp</th>\n",
              "      <th>cnt_vac</th>\n",
              "    </tr>\n",
              "  </thead>\n",
              "  <tbody>\n",
              "    <tr>\n",
              "      <th>0</th>\n",
              "      <td>Россия</td>\n",
              "      <td>410</td>\n",
              "      <td>0</td>\n",
              "    </tr>\n",
              "    <tr>\n",
              "      <th>1</th>\n",
              "      <td>Казахстан</td>\n",
              "      <td>207</td>\n",
              "      <td>0</td>\n",
              "    </tr>\n",
              "    <tr>\n",
              "      <th>2</th>\n",
              "      <td>Московская область</td>\n",
              "      <td>75</td>\n",
              "      <td>0</td>\n",
              "    </tr>\n",
              "    <tr>\n",
              "      <th>3</th>\n",
              "      <td>Краснодарский край</td>\n",
              "      <td>19</td>\n",
              "      <td>0</td>\n",
              "    </tr>\n",
              "    <tr>\n",
              "      <th>4</th>\n",
              "      <td>Ростовская область</td>\n",
              "      <td>18</td>\n",
              "      <td>0</td>\n",
              "    </tr>\n",
              "    <tr>\n",
              "      <th>...</th>\n",
              "      <td>...</td>\n",
              "      <td>...</td>\n",
              "      <td>...</td>\n",
              "    </tr>\n",
              "    <tr>\n",
              "      <th>588</th>\n",
              "      <td>Скидель</td>\n",
              "      <td>0</td>\n",
              "      <td>0</td>\n",
              "    </tr>\n",
              "    <tr>\n",
              "      <th>589</th>\n",
              "      <td>Белоозерск</td>\n",
              "      <td>0</td>\n",
              "      <td>0</td>\n",
              "    </tr>\n",
              "    <tr>\n",
              "      <th>590</th>\n",
              "      <td>Орловский</td>\n",
              "      <td>0</td>\n",
              "      <td>0</td>\n",
              "    </tr>\n",
              "    <tr>\n",
              "      <th>591</th>\n",
              "      <td>Павловская</td>\n",
              "      <td>0</td>\n",
              "      <td>0</td>\n",
              "    </tr>\n",
              "    <tr>\n",
              "      <th>592</th>\n",
              "      <td>Таксимо</td>\n",
              "      <td>0</td>\n",
              "      <td>0</td>\n",
              "    </tr>\n",
              "  </tbody>\n",
              "</table>\n",
              "<p>593 rows × 3 columns</p>\n",
              "</div>"
            ],
            "text/plain": [
              "                   name  cnt_emp  cnt_vac\n",
              "0                Россия      410        0\n",
              "1             Казахстан      207        0\n",
              "2    Московская область       75        0\n",
              "3    Краснодарский край       19        0\n",
              "4    Ростовская область       18        0\n",
              "..                  ...      ...      ...\n",
              "588             Скидель        0        0\n",
              "589          Белоозерск        0        0\n",
              "590           Орловский        0        0\n",
              "591          Павловская        0        0\n",
              "592             Таксимо        0        0\n",
              "\n",
              "[593 rows x 3 columns]"
            ]
          },
          "execution_count": 14,
          "metadata": {},
          "output_type": "execute_result"
        }
      ],
      "source": [
        "# используем метод read_sql_query, чтобы получить результаты запроса сразу в виде датафрейма \n",
        "# 5.2\n",
        "df = pd.read_sql_query(query, connection)\n",
        "df"
      ]
    },
    {
      "cell_type": "code",
      "execution_count": 8,
      "id": "2976b396",
      "metadata": {},
      "outputs": [],
      "source": [
        "# код запроса представляет из себя строковую переменную \n",
        "# 5.4\n",
        "query_5_4 = f'''select count(*) cnt\n",
        "from employers e\n",
        "     left join employers_industries ei on e.id = ei.employer_id\n",
        "where ei.industry_id is null\n",
        "                '''\n",
        "# лучше использовать f-строки - так удобнее передавать параметры"
      ]
    },
    {
      "cell_type": "code",
      "execution_count": 9,
      "id": "67c86aab",
      "metadata": {},
      "outputs": [
        {
          "name": "stderr",
          "output_type": "stream",
          "text": [
            "C:\\Users\\ilyad\\AppData\\Local\\Temp\\ipykernel_8780\\1651684398.py:3: UserWarning: pandas only supports SQLAlchemy connectable (engine/connection) or database string URI or sqlite3 DBAPI2 connection. Other DBAPI2 objects are not tested. Please consider using SQLAlchemy.\n",
            "  df = pd.read_sql_query(query_5_4, connection)\n"
          ]
        },
        {
          "data": {
            "text/html": [
              "<div>\n",
              "<style scoped>\n",
              "    .dataframe tbody tr th:only-of-type {\n",
              "        vertical-align: middle;\n",
              "    }\n",
              "\n",
              "    .dataframe tbody tr th {\n",
              "        vertical-align: top;\n",
              "    }\n",
              "\n",
              "    .dataframe thead th {\n",
              "        text-align: right;\n",
              "    }\n",
              "</style>\n",
              "<table border=\"1\" class=\"dataframe\">\n",
              "  <thead>\n",
              "    <tr style=\"text-align: right;\">\n",
              "      <th></th>\n",
              "      <th>cnt</th>\n",
              "    </tr>\n",
              "  </thead>\n",
              "  <tbody>\n",
              "    <tr>\n",
              "      <th>0</th>\n",
              "      <td>8419</td>\n",
              "    </tr>\n",
              "  </tbody>\n",
              "</table>\n",
              "</div>"
            ],
            "text/plain": [
              "    cnt\n",
              "0  8419"
            ]
          },
          "execution_count": 9,
          "metadata": {},
          "output_type": "execute_result"
        }
      ],
      "source": [
        "# используем метод read_sql_query, чтобы получить результаты запроса сразу в виде датафрейма \n",
        "# 5.4\n",
        "df = pd.read_sql_query(query_5_4, connection)\n",
        "df"
      ]
    },
    {
      "cell_type": "code",
      "execution_count": 38,
      "id": "a55e0823",
      "metadata": {},
      "outputs": [],
      "source": [
        "# код запроса представляет из себя строковую переменную \n",
        "# 5.5\n",
        "query_5_5 = f'''select count(ei.industry_id) количество_сфер, e.name name_работодателя\n",
        "from employers e\n",
        "left join employers_industries ei on e.id = ei.employer_id\n",
        "group by e.id\n",
        "having count(ei.industry_id)=4\n",
        "order by name_работодателя\n",
        "offset 2 limit 1\n",
        "                '''\n",
        "# лучше использовать f-строки - так удобнее передавать параметры"
      ]
    },
    {
      "cell_type": "code",
      "execution_count": 39,
      "id": "d10f42bd",
      "metadata": {},
      "outputs": [
        {
          "name": "stderr",
          "output_type": "stream",
          "text": [
            "C:\\Users\\ilyad\\AppData\\Local\\Temp\\ipykernel_8780\\731898222.py:3: UserWarning: pandas only supports SQLAlchemy connectable (engine/connection) or database string URI or sqlite3 DBAPI2 connection. Other DBAPI2 objects are not tested. Please consider using SQLAlchemy.\n",
            "  df = pd.read_sql_query(query_5_5, connection)\n"
          ]
        },
        {
          "data": {
            "text/html": [
              "<div>\n",
              "<style scoped>\n",
              "    .dataframe tbody tr th:only-of-type {\n",
              "        vertical-align: middle;\n",
              "    }\n",
              "\n",
              "    .dataframe tbody tr th {\n",
              "        vertical-align: top;\n",
              "    }\n",
              "\n",
              "    .dataframe thead th {\n",
              "        text-align: right;\n",
              "    }\n",
              "</style>\n",
              "<table border=\"1\" class=\"dataframe\">\n",
              "  <thead>\n",
              "    <tr style=\"text-align: right;\">\n",
              "      <th></th>\n",
              "      <th>количество_сфер</th>\n",
              "      <th>name_работодателя</th>\n",
              "    </tr>\n",
              "  </thead>\n",
              "  <tbody>\n",
              "    <tr>\n",
              "      <th>0</th>\n",
              "      <td>4</td>\n",
              "      <td>2ГИС</td>\n",
              "    </tr>\n",
              "  </tbody>\n",
              "</table>\n",
              "</div>"
            ],
            "text/plain": [
              "   количество_сфер name_работодателя\n",
              "0                4              2ГИС"
            ]
          },
          "execution_count": 39,
          "metadata": {},
          "output_type": "execute_result"
        }
      ],
      "source": [
        "# используем метод read_sql_query, чтобы получить результаты запроса сразу в виде датафрейма \n",
        "# 5.5\n",
        "df = pd.read_sql_query(query_5_5, connection)\n",
        "df"
      ]
    },
    {
      "cell_type": "code",
      "execution_count": 82,
      "id": "87c6e152",
      "metadata": {},
      "outputs": [],
      "source": [
        "# код запроса представляет из себя строковую переменную \n",
        "# 5.6\n",
        "query_5_6 = f'''select count(ei.industry_id) количество_сфер\n",
        "from industries i\n",
        "left join employers_industries ei on i.id = ei.industry_id\n",
        "group by i.id\n",
        "having i.name='Разработка программного обеспечения'\n",
        "                '''\n",
        "# лучше использовать f-строки - так удобнее передавать параметры"
      ]
    },
    {
      "cell_type": "code",
      "execution_count": 83,
      "id": "d8951e10",
      "metadata": {},
      "outputs": [
        {
          "name": "stderr",
          "output_type": "stream",
          "text": [
            "C:\\Users\\ilyad\\AppData\\Local\\Temp\\ipykernel_8780\\3363201357.py:3: UserWarning: pandas only supports SQLAlchemy connectable (engine/connection) or database string URI or sqlite3 DBAPI2 connection. Other DBAPI2 objects are not tested. Please consider using SQLAlchemy.\n",
            "  df = pd.read_sql_query(query_5_6, connection)\n"
          ]
        },
        {
          "data": {
            "text/html": [
              "<div>\n",
              "<style scoped>\n",
              "    .dataframe tbody tr th:only-of-type {\n",
              "        vertical-align: middle;\n",
              "    }\n",
              "\n",
              "    .dataframe tbody tr th {\n",
              "        vertical-align: top;\n",
              "    }\n",
              "\n",
              "    .dataframe thead th {\n",
              "        text-align: right;\n",
              "    }\n",
              "</style>\n",
              "<table border=\"1\" class=\"dataframe\">\n",
              "  <thead>\n",
              "    <tr style=\"text-align: right;\">\n",
              "      <th></th>\n",
              "      <th>количество_сфер</th>\n",
              "    </tr>\n",
              "  </thead>\n",
              "  <tbody>\n",
              "    <tr>\n",
              "      <th>0</th>\n",
              "      <td>3553</td>\n",
              "    </tr>\n",
              "  </tbody>\n",
              "</table>\n",
              "</div>"
            ],
            "text/plain": [
              "   количество_сфер\n",
              "0             3553"
            ]
          },
          "execution_count": 83,
          "metadata": {},
          "output_type": "execute_result"
        }
      ],
      "source": [
        "# используем метод read_sql_query, чтобы получить результаты запроса сразу в виде датафрейма \n",
        "# 5.6\n",
        "df = pd.read_sql_query(query_5_6, connection)\n",
        "df"
      ]
    },
    {
      "cell_type": "code",
      "execution_count": 138,
      "id": "960feb0f",
      "metadata": {},
      "outputs": [],
      "source": [
        "# код запроса представляет из себя строковую переменную \n",
        "# 5.7\n",
        "import requests\n",
        "from bs4 import BeautifulSoup\n",
        "\n",
        "url='https://ru.wikipedia.org/wiki/Города-миллионеры_России'\n",
        "response=requests.get(url)\n",
        "page=BeautifulSoup (response. text, 'html.parser')\n",
        "\n",
        "cities_here=str(page.find( 'table', class_=\"standard\"))\n",
        "cities_here=cities_here.split('title=\"')[3:]\n",
        "\n",
        "million_cities = []\n",
        "#million_cities = tuple(million_cities) \n",
        "for i in cities_here:\n",
        "    million_cities.append(i.split('\">')[0])\n",
        "# лучше использовать f-строки - так удобнее передавать параметры"
      ]
    },
    {
      "cell_type": "code",
      "execution_count": 184,
      "id": "0219660e",
      "metadata": {},
      "outputs": [],
      "source": [
        "# код запроса представляет из себя строковую переменную \n",
        "# 5.7\n",
        "query_5_7 = f'''\n",
        "WITH temp AS \n",
        "            (select a.name as name, count(v.id) as cnt\n",
        "            from employers e\n",
        "            join vacancies v on e.id = v.employer_id\n",
        "            join areas a on a.id = v.area_id\n",
        "            where e.name = 'Яндекс' and a.name in {tuple(million_cities)}\n",
        "            GROUP BY a.id)\n",
        "            SELECT temp.name,\n",
        "                    temp.cnt\n",
        "            FROM temp\n",
        "            UNION ALL\n",
        "            SELECT 'Total', \n",
        "                    sum(temp.cnt)  \n",
        "            FROM temp\n",
        "'''\n",
        "# лучше использовать f-строки - так удобнее передавать параметры"
      ]
    },
    {
      "cell_type": "code",
      "execution_count": 185,
      "id": "e52c7a98",
      "metadata": {},
      "outputs": [
        {
          "name": "stderr",
          "output_type": "stream",
          "text": [
            "C:\\Users\\ilyad\\AppData\\Local\\Temp\\ipykernel_8780\\4037940136.py:3: UserWarning: pandas only supports SQLAlchemy connectable (engine/connection) or database string URI or sqlite3 DBAPI2 connection. Other DBAPI2 objects are not tested. Please consider using SQLAlchemy.\n",
            "  df = pd.read_sql_query(query_5_7, connection)\n"
          ]
        },
        {
          "data": {
            "text/html": [
              "<div>\n",
              "<style scoped>\n",
              "    .dataframe tbody tr th:only-of-type {\n",
              "        vertical-align: middle;\n",
              "    }\n",
              "\n",
              "    .dataframe tbody tr th {\n",
              "        vertical-align: top;\n",
              "    }\n",
              "\n",
              "    .dataframe thead th {\n",
              "        text-align: right;\n",
              "    }\n",
              "</style>\n",
              "<table border=\"1\" class=\"dataframe\">\n",
              "  <thead>\n",
              "    <tr style=\"text-align: right;\">\n",
              "      <th></th>\n",
              "      <th>name</th>\n",
              "      <th>cnt</th>\n",
              "    </tr>\n",
              "  </thead>\n",
              "  <tbody>\n",
              "    <tr>\n",
              "      <th>0</th>\n",
              "      <td>Москва</td>\n",
              "      <td>54.0</td>\n",
              "    </tr>\n",
              "    <tr>\n",
              "      <th>1</th>\n",
              "      <td>Санкт-Петербург</td>\n",
              "      <td>42.0</td>\n",
              "    </tr>\n",
              "    <tr>\n",
              "      <th>2</th>\n",
              "      <td>Екатеринбург</td>\n",
              "      <td>39.0</td>\n",
              "    </tr>\n",
              "    <tr>\n",
              "      <th>3</th>\n",
              "      <td>Новосибирск</td>\n",
              "      <td>35.0</td>\n",
              "    </tr>\n",
              "    <tr>\n",
              "      <th>4</th>\n",
              "      <td>Волгоград</td>\n",
              "      <td>24.0</td>\n",
              "    </tr>\n",
              "    <tr>\n",
              "      <th>5</th>\n",
              "      <td>Воронеж</td>\n",
              "      <td>32.0</td>\n",
              "    </tr>\n",
              "    <tr>\n",
              "      <th>6</th>\n",
              "      <td>Краснодар</td>\n",
              "      <td>30.0</td>\n",
              "    </tr>\n",
              "    <tr>\n",
              "      <th>7</th>\n",
              "      <td>Красноярск</td>\n",
              "      <td>23.0</td>\n",
              "    </tr>\n",
              "    <tr>\n",
              "      <th>8</th>\n",
              "      <td>Нижний Новгород</td>\n",
              "      <td>36.0</td>\n",
              "    </tr>\n",
              "    <tr>\n",
              "      <th>9</th>\n",
              "      <td>Омск</td>\n",
              "      <td>21.0</td>\n",
              "    </tr>\n",
              "    <tr>\n",
              "      <th>10</th>\n",
              "      <td>Пермь</td>\n",
              "      <td>25.0</td>\n",
              "    </tr>\n",
              "    <tr>\n",
              "      <th>11</th>\n",
              "      <td>Ростов-на-Дону</td>\n",
              "      <td>25.0</td>\n",
              "    </tr>\n",
              "    <tr>\n",
              "      <th>12</th>\n",
              "      <td>Самара</td>\n",
              "      <td>26.0</td>\n",
              "    </tr>\n",
              "    <tr>\n",
              "      <th>13</th>\n",
              "      <td>Казань</td>\n",
              "      <td>25.0</td>\n",
              "    </tr>\n",
              "    <tr>\n",
              "      <th>14</th>\n",
              "      <td>Уфа</td>\n",
              "      <td>26.0</td>\n",
              "    </tr>\n",
              "    <tr>\n",
              "      <th>15</th>\n",
              "      <td>Челябинск</td>\n",
              "      <td>22.0</td>\n",
              "    </tr>\n",
              "    <tr>\n",
              "      <th>16</th>\n",
              "      <td>Total</td>\n",
              "      <td>485.0</td>\n",
              "    </tr>\n",
              "  </tbody>\n",
              "</table>\n",
              "</div>"
            ],
            "text/plain": [
              "               name    cnt\n",
              "0            Москва   54.0\n",
              "1   Санкт-Петербург   42.0\n",
              "2      Екатеринбург   39.0\n",
              "3       Новосибирск   35.0\n",
              "4         Волгоград   24.0\n",
              "5           Воронеж   32.0\n",
              "6         Краснодар   30.0\n",
              "7        Красноярск   23.0\n",
              "8   Нижний Новгород   36.0\n",
              "9              Омск   21.0\n",
              "10            Пермь   25.0\n",
              "11   Ростов-на-Дону   25.0\n",
              "12           Самара   26.0\n",
              "13           Казань   25.0\n",
              "14              Уфа   26.0\n",
              "15        Челябинск   22.0\n",
              "16            Total  485.0"
            ]
          },
          "execution_count": 185,
          "metadata": {},
          "output_type": "execute_result"
        }
      ],
      "source": [
        "# используем метод read_sql_query, чтобы получить результаты запроса сразу в виде датафрейма \n",
        "# 5.7\n",
        "df = pd.read_sql_query(query_5_7, connection)\n",
        "df"
      ]
    },
    {
      "cell_type": "code",
      "execution_count": 186,
      "id": "7cd0bcae",
      "metadata": {},
      "outputs": [],
      "source": [
        "# код запроса представляет из себя строковую переменную \n",
        "# 6.1\n",
        "query_6_1 = f'''select count(*)\n",
        "                from vacancies\n",
        "                where name ilike '%data%' or name ilike '%данн%'\n",
        "                '''\n",
        "# лучше использовать f-строки - так удобнее передавать параметры"
      ]
    },
    {
      "cell_type": "code",
      "execution_count": 187,
      "id": "4995a4f4",
      "metadata": {},
      "outputs": [
        {
          "name": "stderr",
          "output_type": "stream",
          "text": [
            "C:\\Users\\ilyad\\AppData\\Local\\Temp\\ipykernel_8780\\430608920.py:3: UserWarning: pandas only supports SQLAlchemy connectable (engine/connection) or database string URI or sqlite3 DBAPI2 connection. Other DBAPI2 objects are not tested. Please consider using SQLAlchemy.\n",
            "  df = pd.read_sql_query(query_6_1, connection)\n"
          ]
        },
        {
          "data": {
            "text/html": [
              "<div>\n",
              "<style scoped>\n",
              "    .dataframe tbody tr th:only-of-type {\n",
              "        vertical-align: middle;\n",
              "    }\n",
              "\n",
              "    .dataframe tbody tr th {\n",
              "        vertical-align: top;\n",
              "    }\n",
              "\n",
              "    .dataframe thead th {\n",
              "        text-align: right;\n",
              "    }\n",
              "</style>\n",
              "<table border=\"1\" class=\"dataframe\">\n",
              "  <thead>\n",
              "    <tr style=\"text-align: right;\">\n",
              "      <th></th>\n",
              "      <th>count</th>\n",
              "    </tr>\n",
              "  </thead>\n",
              "  <tbody>\n",
              "    <tr>\n",
              "      <th>0</th>\n",
              "      <td>1771</td>\n",
              "    </tr>\n",
              "  </tbody>\n",
              "</table>\n",
              "</div>"
            ],
            "text/plain": [
              "   count\n",
              "0   1771"
            ]
          },
          "execution_count": 187,
          "metadata": {},
          "output_type": "execute_result"
        }
      ],
      "source": [
        "# используем метод read_sql_query, чтобы получить результаты запроса сразу в виде датафрейма \n",
        "# 6.1\n",
        "df = pd.read_sql_query(query_6_1, connection)\n",
        "df"
      ]
    },
    {
      "cell_type": "code",
      "execution_count": 188,
      "id": "69c52b73",
      "metadata": {},
      "outputs": [],
      "source": [
        "# код запроса представляет из себя строковую переменную \n",
        "# 6.2\n",
        "query_6_2 = f'''select count(*)\n",
        "                from vacancies\n",
        "                where (lower(vacancies.name) LIKE '%data scientist%' \n",
        "                or lower(vacancies.name) LIKE '%data science%' \n",
        "                or lower(vacancies.name) LIKE '%исследователь данных%' \n",
        "                or vacancies.name LIKE '%ML%' and vacancies.name NOT LIKE '%HTML%' \n",
        "                or lower(vacancies.name) LIKE '%machine learning%' \n",
        "                or lower(vacancies.name) LIKE '%машинн%обучен%') \n",
        "                and(lower(vacancies.name) LIKE '%junior%'\n",
        "                or lower(vacancies.experience)='нет опыта'\n",
        "                or lower(vacancies.employment)='стажировка')\n",
        "                '''\n",
        "# лучше использовать f-строки - так удобнее передавать параметры"
      ]
    },
    {
      "cell_type": "code",
      "execution_count": 189,
      "id": "62a839bf",
      "metadata": {},
      "outputs": [
        {
          "name": "stderr",
          "output_type": "stream",
          "text": [
            "C:\\Users\\ilyad\\AppData\\Local\\Temp\\ipykernel_8780\\2825064127.py:3: UserWarning: pandas only supports SQLAlchemy connectable (engine/connection) or database string URI or sqlite3 DBAPI2 connection. Other DBAPI2 objects are not tested. Please consider using SQLAlchemy.\n",
            "  df = pd.read_sql_query(query_6_2, connection)\n"
          ]
        },
        {
          "data": {
            "text/html": [
              "<div>\n",
              "<style scoped>\n",
              "    .dataframe tbody tr th:only-of-type {\n",
              "        vertical-align: middle;\n",
              "    }\n",
              "\n",
              "    .dataframe tbody tr th {\n",
              "        vertical-align: top;\n",
              "    }\n",
              "\n",
              "    .dataframe thead th {\n",
              "        text-align: right;\n",
              "    }\n",
              "</style>\n",
              "<table border=\"1\" class=\"dataframe\">\n",
              "  <thead>\n",
              "    <tr style=\"text-align: right;\">\n",
              "      <th></th>\n",
              "      <th>count</th>\n",
              "    </tr>\n",
              "  </thead>\n",
              "  <tbody>\n",
              "    <tr>\n",
              "      <th>0</th>\n",
              "      <td>51</td>\n",
              "    </tr>\n",
              "  </tbody>\n",
              "</table>\n",
              "</div>"
            ],
            "text/plain": [
              "   count\n",
              "0     51"
            ]
          },
          "execution_count": 189,
          "metadata": {},
          "output_type": "execute_result"
        }
      ],
      "source": [
        "# используем метод read_sql_query, чтобы получить результаты запроса сразу в виде датафрейма \n",
        "# 6.2\n",
        "df = pd.read_sql_query(query_6_2, connection)\n",
        "df"
      ]
    },
    {
      "cell_type": "code",
      "execution_count": 190,
      "id": "bd7e4fd1",
      "metadata": {},
      "outputs": [],
      "source": [
        "# код запроса представляет из себя строковую переменную \n",
        "# 6.3\n",
        "query_6_3 = f'''select count(*)\n",
        "                from vacancies\n",
        "                where (lower(vacancies.name) LIKE '%data scientist%' \n",
        "                or lower(vacancies.name) LIKE '%data science%' \n",
        "                or lower(vacancies.name) LIKE '%исследователь данных%' \n",
        "                or lower(vacancies.name) LIKE '%ml%' and vacancies.name NOT LIKE '%HTML%' and vacancies.name not like '%QML%' \n",
        "                or lower(vacancies.name) LIKE '%machine learning%' \n",
        "                or lower(vacancies.name) LIKE '%машинн%обучен%') \n",
        "                and(lower(vacancies.key_skills) LIKE '%postgres%'\n",
        "                or lower(vacancies.key_skills) LIKE '%sql%')\n",
        "                '''\n",
        "# лучше использовать f-строки - так удобнее передавать параметры"
      ]
    },
    {
      "cell_type": "code",
      "execution_count": 191,
      "id": "69d9a310",
      "metadata": {},
      "outputs": [
        {
          "name": "stderr",
          "output_type": "stream",
          "text": [
            "C:\\Users\\ilyad\\AppData\\Local\\Temp\\ipykernel_8780\\3709805219.py:3: UserWarning: pandas only supports SQLAlchemy connectable (engine/connection) or database string URI or sqlite3 DBAPI2 connection. Other DBAPI2 objects are not tested. Please consider using SQLAlchemy.\n",
            "  df = pd.read_sql_query(query_6_3, connection)\n"
          ]
        },
        {
          "data": {
            "text/html": [
              "<div>\n",
              "<style scoped>\n",
              "    .dataframe tbody tr th:only-of-type {\n",
              "        vertical-align: middle;\n",
              "    }\n",
              "\n",
              "    .dataframe tbody tr th {\n",
              "        vertical-align: top;\n",
              "    }\n",
              "\n",
              "    .dataframe thead th {\n",
              "        text-align: right;\n",
              "    }\n",
              "</style>\n",
              "<table border=\"1\" class=\"dataframe\">\n",
              "  <thead>\n",
              "    <tr style=\"text-align: right;\">\n",
              "      <th></th>\n",
              "      <th>count</th>\n",
              "    </tr>\n",
              "  </thead>\n",
              "  <tbody>\n",
              "    <tr>\n",
              "      <th>0</th>\n",
              "      <td>229</td>\n",
              "    </tr>\n",
              "  </tbody>\n",
              "</table>\n",
              "</div>"
            ],
            "text/plain": [
              "   count\n",
              "0    229"
            ]
          },
          "execution_count": 191,
          "metadata": {},
          "output_type": "execute_result"
        }
      ],
      "source": [
        "# используем метод read_sql_query, чтобы получить результаты запроса сразу в виде датафрейма \n",
        "# 6.3\n",
        "df = pd.read_sql_query(query_6_3, connection)\n",
        "df"
      ]
    },
    {
      "cell_type": "code",
      "execution_count": 194,
      "id": "000c8326",
      "metadata": {},
      "outputs": [],
      "source": [
        "# код запроса представляет из себя строковую переменную \n",
        "# 6.4\n",
        "query_6_4 = f'''select count(*)\n",
        "                from vacancies\n",
        "                where (lower(vacancies.name) LIKE '%data scientist%' \n",
        "                or lower(vacancies.name) LIKE '%data science%' \n",
        "                or lower(vacancies.name) LIKE '%исследователь данных%' \n",
        "                or lower(vacancies.name) LIKE '%ml%' and vacancies.name NOT LIKE '%HTML%' and vacancies.name not like '%QML%' \n",
        "                or lower(vacancies.name) LIKE '%machine learning%' \n",
        "                or lower(vacancies.name) LIKE '%машинн%обучен%') \n",
        "                and(lower(vacancies.key_skills) LIKE '%python%')\n",
        "                '''\n",
        "# лучше использовать f-строки - так удобнее передавать параметры"
      ]
    },
    {
      "cell_type": "code",
      "execution_count": 195,
      "id": "271eb174",
      "metadata": {},
      "outputs": [
        {
          "name": "stderr",
          "output_type": "stream",
          "text": [
            "C:\\Users\\ilyad\\AppData\\Local\\Temp\\ipykernel_8780\\1639840439.py:3: UserWarning: pandas only supports SQLAlchemy connectable (engine/connection) or database string URI or sqlite3 DBAPI2 connection. Other DBAPI2 objects are not tested. Please consider using SQLAlchemy.\n",
            "  df = pd.read_sql_query(query_6_4, connection)\n"
          ]
        },
        {
          "data": {
            "text/html": [
              "<div>\n",
              "<style scoped>\n",
              "    .dataframe tbody tr th:only-of-type {\n",
              "        vertical-align: middle;\n",
              "    }\n",
              "\n",
              "    .dataframe tbody tr th {\n",
              "        vertical-align: top;\n",
              "    }\n",
              "\n",
              "    .dataframe thead th {\n",
              "        text-align: right;\n",
              "    }\n",
              "</style>\n",
              "<table border=\"1\" class=\"dataframe\">\n",
              "  <thead>\n",
              "    <tr style=\"text-align: right;\">\n",
              "      <th></th>\n",
              "      <th>count</th>\n",
              "    </tr>\n",
              "  </thead>\n",
              "  <tbody>\n",
              "    <tr>\n",
              "      <th>0</th>\n",
              "      <td>357</td>\n",
              "    </tr>\n",
              "  </tbody>\n",
              "</table>\n",
              "</div>"
            ],
            "text/plain": [
              "   count\n",
              "0    357"
            ]
          },
          "execution_count": 195,
          "metadata": {},
          "output_type": "execute_result"
        }
      ],
      "source": [
        "# используем метод read_sql_query, чтобы получить результаты запроса сразу в виде датафрейма \n",
        "# 6.4\n",
        "df = pd.read_sql_query(query_6_4, connection)\n",
        "df"
      ]
    },
    {
      "cell_type": "code",
      "execution_count": 214,
      "id": "55166ad9",
      "metadata": {},
      "outputs": [],
      "source": [
        "# код запроса представляет из себя строковую переменную \n",
        "# 6.5\n",
        "query_6_5 = f'''SELECT \n",
        "    round(avg(length(key_skills) - length(replace(key_skills, CHR(9), ''))+1), 2)\n",
        "FROM vacancies\n",
        "WHERE\n",
        "    (lower(name) like '%data scientist%'\n",
        "    or lower(name) like '%data science%'\n",
        "    or lower(name) like '%исследователь данных%'\n",
        "    or (name like '%ML%' and name not ilike '%HTML%')\n",
        "    or lower(name) like '%machine learning%'\n",
        "    or lower(name) like '%машинн%обучен%')\n",
        "    and upper(name) not like '%HTML%'\n",
        "    and key_skills is not null\n",
        "                '''\n",
        "# лучше использовать f-строки - так удобнее передавать параметры"
      ]
    },
    {
      "cell_type": "code",
      "execution_count": 215,
      "id": "b3d799ef",
      "metadata": {},
      "outputs": [
        {
          "name": "stderr",
          "output_type": "stream",
          "text": [
            "C:\\Users\\ilyad\\AppData\\Local\\Temp\\ipykernel_8780\\2940343815.py:3: UserWarning: pandas only supports SQLAlchemy connectable (engine/connection) or database string URI or sqlite3 DBAPI2 connection. Other DBAPI2 objects are not tested. Please consider using SQLAlchemy.\n",
            "  df = pd.read_sql_query(query_6_5, connection)\n"
          ]
        },
        {
          "data": {
            "text/html": [
              "<div>\n",
              "<style scoped>\n",
              "    .dataframe tbody tr th:only-of-type {\n",
              "        vertical-align: middle;\n",
              "    }\n",
              "\n",
              "    .dataframe tbody tr th {\n",
              "        vertical-align: top;\n",
              "    }\n",
              "\n",
              "    .dataframe thead th {\n",
              "        text-align: right;\n",
              "    }\n",
              "</style>\n",
              "<table border=\"1\" class=\"dataframe\">\n",
              "  <thead>\n",
              "    <tr style=\"text-align: right;\">\n",
              "      <th></th>\n",
              "      <th>round</th>\n",
              "    </tr>\n",
              "  </thead>\n",
              "  <tbody>\n",
              "    <tr>\n",
              "      <th>0</th>\n",
              "      <td>6.41</td>\n",
              "    </tr>\n",
              "  </tbody>\n",
              "</table>\n",
              "</div>"
            ],
            "text/plain": [
              "   round\n",
              "0   6.41"
            ]
          },
          "execution_count": 215,
          "metadata": {},
          "output_type": "execute_result"
        }
      ],
      "source": [
        "# используем метод read_sql_query, чтобы получить результаты запроса сразу в виде датафрейма \n",
        "# 6.5\n",
        "df = pd.read_sql_query(query_6_5, connection)\n",
        "df"
      ]
    },
    {
      "cell_type": "code",
      "execution_count": 228,
      "id": "86ee8e45",
      "metadata": {},
      "outputs": [],
      "source": [
        "# код запроса представляет из себя строковую переменную \n",
        "# 6.6\n",
        "query_6_6 = f'''SELECT experience, round(avg(coalesce((salary_from+salary_to)/2, salary_from, salary_to))) as wage\n",
        "FROM vacancies \n",
        "WHERE (name ilike '%data science%'\n",
        "    or name ilike '%data scientist%'\n",
        "    or name ilike '%machine learning%'\n",
        "    or name ilike '%исследователь данных%'\n",
        "    or name ilike '%машинн%обучен%'\n",
        "    or (name like '%ML%' and name not like '%HTML%'))   \n",
        "GROUP BY 1 \n",
        "                '''\n",
        "# лучше использовать f-строки - так удобнее передавать параметры"
      ]
    },
    {
      "cell_type": "code",
      "execution_count": 229,
      "id": "be7dc3da",
      "metadata": {},
      "outputs": [
        {
          "name": "stderr",
          "output_type": "stream",
          "text": [
            "C:\\Users\\ilyad\\AppData\\Local\\Temp\\ipykernel_8780\\4110104214.py:3: UserWarning: pandas only supports SQLAlchemy connectable (engine/connection) or database string URI or sqlite3 DBAPI2 connection. Other DBAPI2 objects are not tested. Please consider using SQLAlchemy.\n",
            "  df = pd.read_sql_query(query_6_6, connection)\n"
          ]
        },
        {
          "data": {
            "text/html": [
              "<div>\n",
              "<style scoped>\n",
              "    .dataframe tbody tr th:only-of-type {\n",
              "        vertical-align: middle;\n",
              "    }\n",
              "\n",
              "    .dataframe tbody tr th {\n",
              "        vertical-align: top;\n",
              "    }\n",
              "\n",
              "    .dataframe thead th {\n",
              "        text-align: right;\n",
              "    }\n",
              "</style>\n",
              "<table border=\"1\" class=\"dataframe\">\n",
              "  <thead>\n",
              "    <tr style=\"text-align: right;\">\n",
              "      <th></th>\n",
              "      <th>experience</th>\n",
              "      <th>wage</th>\n",
              "    </tr>\n",
              "  </thead>\n",
              "  <tbody>\n",
              "    <tr>\n",
              "      <th>0</th>\n",
              "      <td>Более 6 лет</td>\n",
              "      <td>NaN</td>\n",
              "    </tr>\n",
              "    <tr>\n",
              "      <th>1</th>\n",
              "      <td>Нет опыта</td>\n",
              "      <td>74643.0</td>\n",
              "    </tr>\n",
              "    <tr>\n",
              "      <th>2</th>\n",
              "      <td>От 1 года до 3 лет</td>\n",
              "      <td>139675.0</td>\n",
              "    </tr>\n",
              "    <tr>\n",
              "      <th>3</th>\n",
              "      <td>От 3 до 6 лет</td>\n",
              "      <td>243115.0</td>\n",
              "    </tr>\n",
              "  </tbody>\n",
              "</table>\n",
              "</div>"
            ],
            "text/plain": [
              "           experience      wage\n",
              "0         Более 6 лет       NaN\n",
              "1           Нет опыта   74643.0\n",
              "2  От 1 года до 3 лет  139675.0\n",
              "3       От 3 до 6 лет  243115.0"
            ]
          },
          "execution_count": 229,
          "metadata": {},
          "output_type": "execute_result"
        }
      ],
      "source": [
        "# используем метод read_sql_query, чтобы получить результаты запроса сразу в виде датафрейма \n",
        "# 6.6\n",
        "df = pd.read_sql_query(query_6_6, connection)\n",
        "df"
      ]
    },
    {
      "cell_type": "markdown",
      "id": "622e62c1",
      "metadata": {
        "id": "622e62c1"
      },
      "source": [
        "### Финал"
      ]
    },
    {
      "cell_type": "code",
      "execution_count": 224,
      "id": "8a103f6a",
      "metadata": {
        "id": "8a103f6a"
      },
      "outputs": [],
      "source": [
        "# не забываем закрыть соединение после окончания работы\n",
        "connection.close()"
      ]
    }
  ],
  "metadata": {
    "colab": {
      "collapsed_sections": [],
      "provenance": []
    },
    "kernelspec": {
      "display_name": "Python 3 (ipykernel)",
      "language": "python",
      "name": "python3"
    },
    "language_info": {
      "codemirror_mode": {
        "name": "ipython",
        "version": 3
      },
      "file_extension": ".py",
      "mimetype": "text/x-python",
      "name": "python",
      "nbconvert_exporter": "python",
      "pygments_lexer": "ipython3",
      "version": "3.11.8"
    }
  },
  "nbformat": 4,
  "nbformat_minor": 5
}
